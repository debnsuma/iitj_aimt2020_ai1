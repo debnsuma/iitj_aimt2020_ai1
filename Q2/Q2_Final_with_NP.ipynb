{
 "cells": [
  {
   "cell_type": "markdown",
   "metadata": {},
   "source": [
    "## Imprting the Modules"
   ]
  },
  {
   "cell_type": "code",
   "execution_count": 1,
   "metadata": {},
   "outputs": [],
   "source": [
    "import random\n",
    "import numpy as np \n",
    "import time\n",
    "import sys"
   ]
  },
  {
   "cell_type": "markdown",
   "metadata": {},
   "source": [
    "## Agent Class"
   ]
  },
  {
   "cell_type": "code",
   "execution_count": 2,
   "metadata": {},
   "outputs": [],
   "source": [
    "class Agent:\n",
    "    \n",
    "    def __init__(self, n, best_array=False):\n",
    "        \n",
    "        self.best_array = best_array\n",
    "        \n",
    "        if not self.best_array:\n",
    "            self.array = np.random.randint(low=1, high=5, size=(n, n))\n",
    "            self.fitness = 0 \n",
    "        else:\n",
    "            max_range = n*n + 1\n",
    "            self.array = np.reshape(range(1, max_range), (n,n))\n",
    "            self.fitness = 0\n",
    "            \n",
    "        fitness_value_hash = {}\n",
    "        for index, x in np.ndenumerate(self.array):\n",
    "            fitness_value_hash[index] = 0\n",
    "        \n",
    "        self.fitness_value_hash = fitness_value_hash\n",
    "        \n",
    "    def __str__(self):\n",
    "        return (f\"Array: \\n {self.array} \\nFitness: {self.fitness}\")\n",
    "#         return (f\"Fitness: {self.fitness}\")"
   ]
  },
  {
   "cell_type": "markdown",
   "metadata": {},
   "source": [
    "## Get Adjusent Block Function"
   ]
  },
  {
   "cell_type": "code",
   "execution_count": 3,
   "metadata": {},
   "outputs": [],
   "source": [
    "def get_adjusent(array, i_row, j_column):\n",
    "    \n",
    "    neighbours = {}\n",
    "    \n",
    "    try:\n",
    "        left_element = i_row, j_column - 1\n",
    "        neighbours[left_element] = (array[left_element[0], left_element[1]])\n",
    "\n",
    "    except IndexError:\n",
    "        pass\n",
    "        \n",
    "    try: \n",
    "        right_element = i_row, j_column + 1\n",
    "        neighbours[right_element] = (array[right_element[0], right_element[1]])\n",
    "    \n",
    "    except IndexError:\n",
    "        pass\n",
    "        \n",
    "    try:\n",
    "        up_element = i_row - 1, j_column\n",
    "        neighbours[up_element] = (array[up_element[0], up_element[1]])\n",
    "   \n",
    "    except IndexError:\n",
    "        pass\n",
    "    \n",
    "    try:\n",
    "        down_element = i_row + 1, j_column\n",
    "        neighbours[down_element] = (array[down_element[0], down_element[1]])\n",
    "\n",
    "    except IndexError:\n",
    "        pass\n",
    "\n",
    "    # Removing the negative index(-1) neighbour\n",
    "    marker = []\n",
    "    for i in neighbours.keys():\n",
    "        if -1 in i:\n",
    "            marker.append(i)\n",
    "    if marker != []:\n",
    "        for i in marker:\n",
    "            del neighbours[i]    \n",
    "\n",
    "    return neighbours\n",
    "    \n",
    "    "
   ]
  },
  {
   "cell_type": "markdown",
   "metadata": {},
   "source": [
    "## Initiate Agents"
   ]
  },
  {
   "cell_type": "code",
   "execution_count": 4,
   "metadata": {},
   "outputs": [],
   "source": [
    "def init_agents(population, size):\n",
    "    \n",
    "    return [Agent(size) for _ in range(population)]"
   ]
  },
  {
   "cell_type": "markdown",
   "metadata": {},
   "source": [
    "## Fitness Function"
   ]
  },
  {
   "cell_type": "code",
   "execution_count": 5,
   "metadata": {},
   "outputs": [],
   "source": [
    "def fitness(agents):\n",
    "    \n",
    "    for agent in agents:\n",
    "        fitness_value_hash = {}\n",
    "        for index, x in np.ndenumerate(agent.array):\n",
    "\n",
    "            fitness_value_each_element = 0\n",
    "            adjusent_to_x = get_adjusent(agent.array, *index)\n",
    "            for colour in adjusent_to_x.values():\n",
    "                if colour == x:\n",
    "                    pass\n",
    "                else:\n",
    "                    fitness_value_each_element += 1\n",
    "\n",
    "            fitness_value_hash[index] = fitness_value_each_element\n",
    "     #       print(f\"Element Index {index}, Fitness Value {fitness_value_each_element}\")\n",
    "        \n",
    "        agent.fitness_value_hash = fitness_value_hash\n",
    "        agent.fitness = sum(fitness_value_hash.values())\n",
    "        \n",
    "    return agents\n"
   ]
  },
  {
   "cell_type": "markdown",
   "metadata": {},
   "source": [
    "## Selection Function "
   ]
  },
  {
   "cell_type": "code",
   "execution_count": 6,
   "metadata": {},
   "outputs": [],
   "source": [
    "def selection(agents):\n",
    "    \n",
    "    agents = sorted(agents, key=lambda agent: agent.fitness, reverse=True)\n",
    "    \n",
    "    agents = agents[:int(.1 * len(agents))]\n",
    "    \n",
    "    return agents"
   ]
  },
  {
   "cell_type": "markdown",
   "metadata": {},
   "source": [
    "## CrossOver Function"
   ]
  },
  {
   "cell_type": "code",
   "execution_count": 7,
   "metadata": {},
   "outputs": [],
   "source": [
    "def crossover(agents):\n",
    "    \n",
    "    offsprings = []\n",
    "    \n",
    "    for _ in range((population - len(agents))//2):\n",
    "        \n",
    "        parent1 = random.choice(agents)\n",
    "        parent2 = random.choice(agents)\n",
    "        \n",
    "        child1 = Agent(size_of_matrix)\n",
    "        child2 = Agent(size_of_matrix)\n",
    "        \n",
    "        split = random.randint(0, size_of_matrix - 1) \n",
    "        \n",
    "        child1.array = np.concatenate((parent1.array[0:split], parent2.array[split:size_of_matrix]))\n",
    "        child2.array = np.concatenate((parent2.array[0:split], parent1.array[split:size_of_matrix]))\n",
    "        \n",
    "        child1.array = np.transpose(child1.array)\n",
    "        child2.array = np.transpose(child2.array)\n",
    "        \n",
    "        offsprings.append(child1)\n",
    "        offsprings.append(child2)\n",
    "\n",
    "        \n",
    "    agents.extend(offsprings)\n",
    "    \n",
    "    return agents"
   ]
  },
  {
   "cell_type": "markdown",
   "metadata": {},
   "source": [
    "## Mutation Function (Not using it) "
   ]
  },
  {
   "cell_type": "code",
   "execution_count": 8,
   "metadata": {},
   "outputs": [],
   "source": [
    "def mutation(agents):\n",
    "    \n",
    "    for agent in agents:\n",
    "        \n",
    "        for idx, pram in np.ndenumerate(agent.array):\n",
    "            colour_hash = [1,2,3,4]\n",
    "            if random.uniform(0, 1) <= 0.3:\n",
    "                \n",
    "                present_color = agent.array[idx]\n",
    "                \n",
    "                mycol_hash = colour_hash.copy()\n",
    "                mycol_hash.remove(present_color)\n",
    "                \n",
    "                random_color = random.choice(mycol_hash)\n",
    "\n",
    "#                 print(array)\n",
    "#                 print(idx, array[idx])\n",
    "                agent.array[idx] = random_color\n",
    "#                 print(array)\n",
    "#                 print(\"******\")\n",
    "    return agents"
   ]
  },
  {
   "cell_type": "markdown",
   "metadata": {},
   "source": [
    "### Get the best array "
   ]
  },
  {
   "cell_type": "code",
   "execution_count": 9,
   "metadata": {},
   "outputs": [],
   "source": [
    "def get_best_array(size_of_matrix):\n",
    "    \n",
    "    best_array = Agent(size_of_matrix, best_array=True)\n",
    "    best = [best_array]\n",
    "    fitness(best)\n",
    "    b_array = best[0]\n",
    "    max_score_to_stop = b_array.fitness\n",
    "#     print(best_array.array)\n",
    "    return max_score_to_stop\n",
    "    "
   ]
  },
  {
   "cell_type": "markdown",
   "metadata": {},
   "source": [
    "## Genetic Algorithm"
   ]
  },
  {
   "cell_type": "code",
   "execution_count": 10,
   "metadata": {},
   "outputs": [],
   "source": [
    "def ga():\n",
    "    \n",
    "    max_score_to_stop = get_best_array(size_of_matrix)\n",
    "    agents = init_agents(population, size_of_matrix)\n",
    "    time.sleep(3)\n",
    "    \n",
    "    for generation in range(generations):\n",
    "        \n",
    "        print(f\"Since Generation: {generation}, Best Fitness We Got {agents[0].fitness}, Fitness We Are Looking for {max_score_to_stop}\")\n",
    "        \n",
    "        agents = fitness(agents)\n",
    "        agents = selection(agents)\n",
    "        agents = crossover(agents)\n",
    "        #agents = mutation(agents)\n",
    "        \n",
    "        agents = fitness(agents)\n",
    "        \n",
    "        time.sleep(.2)\n",
    "        print(\"Sleeping..\")\n",
    "        for agent in agents:\n",
    "            # print(agent.fitness, max_score_to_stop )\n",
    "            if agent.fitness == max_score_to_stop:\n",
    "                print(\"Got the best array\")\n",
    "                print(agent.array)\n",
    "                print(f\"Fitness of the Above Array {agent.fitness}\")\n",
    "                \n",
    "                sys.exit(0)\n"
   ]
  },
  {
   "cell_type": "markdown",
   "metadata": {},
   "source": [
    "## Global Variables (should be under main())"
   ]
  },
  {
   "cell_type": "code",
   "execution_count": 11,
   "metadata": {
    "scrolled": true
   },
   "outputs": [],
   "source": [
    "size_of_matrix = 10\n",
    "population = size_of_matrix * 100\n",
    "generations = size_of_matrix * 20"
   ]
  },
  {
   "cell_type": "markdown",
   "metadata": {},
   "source": [
    "## Starting the Algorithm "
   ]
  },
  {
   "cell_type": "code",
   "execution_count": 12,
   "metadata": {
    "scrolled": true
   },
   "outputs": [
    {
     "name": "stdout",
     "output_type": "stream",
     "text": [
      "Since Generation: 0, Best Fitness We Got 0, Fitness We Are Looking for 360\n",
      "Sleeping..\n",
      "Since Generation: 1, Best Fitness We Got 310, Fitness We Are Looking for 360\n",
      "Sleeping..\n",
      "Since Generation: 2, Best Fitness We Got 322, Fitness We Are Looking for 360\n",
      "Sleeping..\n",
      "Since Generation: 3, Best Fitness We Got 324, Fitness We Are Looking for 360\n",
      "Sleeping..\n",
      "Since Generation: 4, Best Fitness We Got 330, Fitness We Are Looking for 360\n",
      "Sleeping..\n",
      "Since Generation: 5, Best Fitness We Got 340, Fitness We Are Looking for 360\n",
      "Sleeping..\n",
      "Since Generation: 6, Best Fitness We Got 350, Fitness We Are Looking for 360\n",
      "Sleeping..\n",
      "Since Generation: 7, Best Fitness We Got 350, Fitness We Are Looking for 360\n",
      "Sleeping..\n",
      "Since Generation: 8, Best Fitness We Got 356, Fitness We Are Looking for 360\n",
      "Sleeping..\n",
      "Got the best array\n",
      "[[3 2 4 2 1 2 4 1 2 3]\n",
      " [2 4 2 1 4 1 3 2 3 4]\n",
      " [4 3 4 2 1 3 1 3 1 3]\n",
      " [2 1 2 4 2 1 2 4 2 4]\n",
      " [1 4 1 3 4 3 1 3 4 2]\n",
      " [3 2 3 1 2 4 3 2 1 3]\n",
      " [4 1 4 2 1 3 1 3 4 2]\n",
      " [1 4 1 3 4 2 3 4 3 4]\n",
      " [3 2 4 2 3 1 4 1 4 2]\n",
      " [2 4 3 4 1 4 1 3 2 4]]\n",
      "Fitness of the Above Array 360\n"
     ]
    },
    {
     "ename": "SystemExit",
     "evalue": "0",
     "output_type": "error",
     "traceback": [
      "An exception has occurred, use %tb to see the full traceback.\n",
      "\u001b[0;31mSystemExit\u001b[0m\u001b[0;31m:\u001b[0m 0\n"
     ]
    },
    {
     "name": "stderr",
     "output_type": "stream",
     "text": [
      "/Users/debnsuma/opt/anaconda3/lib/python3.7/site-packages/IPython/core/interactiveshell.py:3339: UserWarning: To exit: use 'exit', 'quit', or Ctrl-D.\n",
      "  warn(\"To exit: use 'exit', 'quit', or Ctrl-D.\", stacklevel=1)\n"
     ]
    }
   ],
   "source": [
    "ga()"
   ]
  },
  {
   "cell_type": "code",
   "execution_count": null,
   "metadata": {},
   "outputs": [],
   "source": []
  },
  {
   "cell_type": "code",
   "execution_count": null,
   "metadata": {},
   "outputs": [],
   "source": []
  },
  {
   "cell_type": "code",
   "execution_count": null,
   "metadata": {},
   "outputs": [],
   "source": []
  },
  {
   "cell_type": "code",
   "execution_count": null,
   "metadata": {},
   "outputs": [],
   "source": []
  }
 ],
 "metadata": {
  "kernelspec": {
   "display_name": "Python 3",
   "language": "python",
   "name": "python3"
  },
  "language_info": {
   "codemirror_mode": {
    "name": "ipython",
    "version": 3
   },
   "file_extension": ".py",
   "mimetype": "text/x-python",
   "name": "python",
   "nbconvert_exporter": "python",
   "pygments_lexer": "ipython3",
   "version": "3.7.6"
  }
 },
 "nbformat": 4,
 "nbformat_minor": 4
}
