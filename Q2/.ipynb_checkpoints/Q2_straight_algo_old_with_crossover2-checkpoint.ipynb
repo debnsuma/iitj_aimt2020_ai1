{
 "cells": [
  {
   "cell_type": "markdown",
   "metadata": {},
   "source": [
    "## Imprting the Modules"
   ]
  },
  {
   "cell_type": "code",
   "execution_count": 527,
   "metadata": {},
   "outputs": [],
   "source": [
    "import random\n",
    "import numpy as np \n",
    "import time\n",
    "import sys"
   ]
  },
  {
   "cell_type": "markdown",
   "metadata": {},
   "source": [
    "## Agent Class"
   ]
  },
  {
   "cell_type": "code",
   "execution_count": 528,
   "metadata": {},
   "outputs": [],
   "source": [
    "class Agent:\n",
    "    \n",
    "    def __init__(self, n, best_array=False):\n",
    "        \n",
    "        self.best_array = best_array\n",
    "        \n",
    "        if not self.best_array:\n",
    "            self.array = np.random.randint(low=1, high=5, size=(n, n))\n",
    "            self.fitness = 0 \n",
    "        else:\n",
    "            max_range = n*n + 1\n",
    "            self.array = np.reshape(range(1, max_range), (n,n))\n",
    "            self.fitness = 0\n",
    "            \n",
    "        fitness_value_hash = {}\n",
    "        for index, x in np.ndenumerate(self.array):\n",
    "            fitness_value_hash[index] = 0\n",
    "        \n",
    "        self.fitness_value_hash = fitness_value_hash\n",
    "        \n",
    "    def __str__(self):\n",
    "        return (f\"Array: \\n {self.array} \\nFitness: {self.fitness}\")\n",
    "#         return (f\"Fitness: {self.fitness}\")"
   ]
  },
  {
   "cell_type": "markdown",
   "metadata": {},
   "source": [
    "## Get Adjusent Block Function"
   ]
  },
  {
   "cell_type": "code",
   "execution_count": 529,
   "metadata": {},
   "outputs": [],
   "source": [
    "def get_adjusent(array, i_row, j_column):\n",
    "    \n",
    "    neighbours = {}\n",
    "    \n",
    "    try:\n",
    "        left_element = i_row, j_column - 1\n",
    "        neighbours[left_element] = (array[left_element[0], left_element[1]])\n",
    "\n",
    "    except IndexError:\n",
    "        pass\n",
    "        \n",
    "    try: \n",
    "        right_element = i_row, j_column + 1\n",
    "        neighbours[right_element] = (array[right_element[0], right_element[1]])\n",
    "    \n",
    "    except IndexError:\n",
    "        pass\n",
    "        \n",
    "    try:\n",
    "        up_element = i_row - 1, j_column\n",
    "        neighbours[up_element] = (array[up_element[0], up_element[1]])\n",
    "   \n",
    "    except IndexError:\n",
    "        pass\n",
    "    \n",
    "    try:\n",
    "        down_element = i_row + 1, j_column\n",
    "        neighbours[down_element] = (array[down_element[0], down_element[1]])\n",
    "\n",
    "    except IndexError:\n",
    "        pass\n",
    "\n",
    "    # Removing the negative index(-1) neighbour\n",
    "    marker = []\n",
    "    for i in neighbours.keys():\n",
    "        if -1 in i:\n",
    "            marker.append(i)\n",
    "    if marker != []:\n",
    "        for i in marker:\n",
    "            del neighbours[i]    \n",
    "\n",
    "    return neighbours\n",
    "    \n",
    "    "
   ]
  },
  {
   "cell_type": "markdown",
   "metadata": {},
   "source": [
    "## Initiate Agents"
   ]
  },
  {
   "cell_type": "code",
   "execution_count": 450,
   "metadata": {},
   "outputs": [],
   "source": [
    "def init_agents(population, size):\n",
    "    \n",
    "    return [Agent(size) for _ in range(population)]"
   ]
  },
  {
   "cell_type": "markdown",
   "metadata": {},
   "source": [
    "## Fitness Function"
   ]
  },
  {
   "cell_type": "code",
   "execution_count": 530,
   "metadata": {},
   "outputs": [],
   "source": [
    "def fitness(agents):\n",
    "    \n",
    "    for agent in agents:\n",
    "        fitness_value_hash = {}\n",
    "        for index, x in np.ndenumerate(agent.array):\n",
    "\n",
    "            fitness_value_each_element = 0\n",
    "            adjusent_to_x = get_adjusent(agent.array, *index)\n",
    "            for colour in adjusent_to_x.values():\n",
    "                if colour == x:\n",
    "                    pass\n",
    "                else:\n",
    "                    fitness_value_each_element += 1\n",
    "\n",
    "            fitness_value_hash[index] = fitness_value_each_element\n",
    "     #       print(f\"Element Index {index}, Fitness Value {fitness_value_each_element}\")\n",
    "        \n",
    "        agent.fitness_value_hash = fitness_value_hash\n",
    "        agent.fitness = sum(fitness_value_hash.values())\n",
    "        \n",
    "    return agents\n"
   ]
  },
  {
   "cell_type": "markdown",
   "metadata": {},
   "source": [
    "## Selection Function "
   ]
  },
  {
   "cell_type": "code",
   "execution_count": 452,
   "metadata": {},
   "outputs": [],
   "source": [
    "def selection(agents):\n",
    "    \n",
    "    agents = sorted(agents, key=lambda agent: agent.fitness, reverse=True)\n",
    "    \n",
    "    agents = agents[:int(.1 * len(agents))]\n",
    "    \n",
    "    return agents"
   ]
  },
  {
   "cell_type": "markdown",
   "metadata": {},
   "source": [
    "## CrossOver Function"
   ]
  },
  {
   "cell_type": "code",
   "execution_count": 453,
   "metadata": {},
   "outputs": [],
   "source": [
    "def crossover(agents):\n",
    "    \n",
    "    offsprings = []\n",
    "    \n",
    "    for _ in range((population - len(agents))//2):\n",
    "        \n",
    "        parent1 = random.choice(agents)\n",
    "        parent2 = random.choice(agents)\n",
    "        \n",
    "        child1 = Agent(size_of_matrix)\n",
    "        child2 = Agent(size_of_matrix)\n",
    "        \n",
    "        split = random.randint(0, size_of_matrix - 1) \n",
    "        \n",
    "        child1.array = np.concatenate((parent1.array[0:split], parent2.array[split:size_of_matrix]))\n",
    "        child2.array = np.concatenate((parent2.array[0:split], parent1.array[split:size_of_matrix]))\n",
    "        \n",
    "        child1.array = np.transpose(child1.array)\n",
    "        child2.array = np.transpose(child2.array)\n",
    "        \n",
    "        offsprings.append(child1)\n",
    "        offsprings.append(child2)\n",
    "        \n",
    "    agents.extend(offsprings)\n",
    "    \n",
    "    return agents"
   ]
  },
  {
   "cell_type": "code",
   "execution_count": 454,
   "metadata": {},
   "outputs": [],
   "source": [
    "def crossover2(agents):\n",
    "    \n",
    "    offsprings = []\n",
    "    \n",
    "    for _ in range((population - len(agents))//2):\n",
    "        \n",
    "        parent1 = random.choice(agents)\n",
    "        parent2 = random.choice(agents)\n",
    "        \n",
    "        child1 = Agent(size_of_matrix)\n",
    "        child2 = Agent(size_of_matrix)\n",
    "        \n",
    "        # For child1 and child2 (Even row and Add row combination from parent1 and parent2)\n",
    "        for index, x in np.ndenumerate(child1.array):\n",
    "            max_limit = len(parent1.array)-1\n",
    "            if index[0] % 2 == 0:\n",
    "#                 child1.array[index] = parent1.array[index]\n",
    "#                 child2.array[index] = parent2.array[index]\n",
    "                child1.array[index] = parent1.array[random.randint(0, max_limit), random.randint(0, max_limit)]\n",
    "                child2.array[index] = parent2.array[random.randint(0, max_limit), random.randint(0, max_limit)]\n",
    "            else:\n",
    "#                 child1.array[index] = parent2.array[index]\n",
    "#                 child2.array[index] = parent1.array[index]\n",
    "                child1.array[index] = parent2.array[random.randint(0, max_limit), random.randint(0, max_limit)]\n",
    "                child2.array[index] = parent1.array[random.randint(0, max_limit), random.randint(0, max_limit)]\n",
    "\n",
    "        child1.array = np.transpose(child1.array)\n",
    "        child2.array = np.transpose(child2.array)\n",
    "        \n",
    "        offsprings.append(child1)\n",
    "        offsprings.append(child2)\n",
    "        \n",
    "    agents.extend(offsprings)\n",
    "    \n",
    "    return agents"
   ]
  },
  {
   "cell_type": "code",
   "execution_count": null,
   "metadata": {},
   "outputs": [],
   "source": []
  },
  {
   "cell_type": "code",
   "execution_count": 455,
   "metadata": {},
   "outputs": [],
   "source": [
    "def mutation(agents):\n",
    "    \n",
    "    for agent in agents:\n",
    "        \n",
    "        for idx, pram in np.ndenumerate(agent.array):\n",
    "            colour_hash = [1,2,3,4]\n",
    "            if random.uniform(0, 1) <= 0.3:\n",
    "                \n",
    "                present_color = agent.array[idx]\n",
    "                \n",
    "                mycol_hash = colour_hash.copy()\n",
    "                mycol_hash.remove(present_color)\n",
    "                \n",
    "                random_color = random.choice(mycol_hash)\n",
    "\n",
    "#                 print(array)\n",
    "#                 print(idx, array[idx])\n",
    "                agent.array[idx] = random_color\n",
    "#                 print(array)\n",
    "#                 print(\"******\")\n",
    "    return agents"
   ]
  },
  {
   "cell_type": "code",
   "execution_count": 516,
   "metadata": {},
   "outputs": [],
   "source": [
    "def get_best_array(size_of_matrix):\n",
    "    \n",
    "    best_array = Agent(size_of_matrix, best_array=True)\n",
    "    best = [best_array]\n",
    "    fitness(best)\n",
    "    b_array = best[0]\n",
    "    max_score_to_stop = b_array.fitness\n",
    "#     print(best_array.array)\n",
    "    return max_score_to_stop\n",
    "    "
   ]
  },
  {
   "cell_type": "code",
   "execution_count": 517,
   "metadata": {},
   "outputs": [],
   "source": [
    "def ga():\n",
    "    \n",
    "    max_score_to_stop = get_best_array(size_of_matrix)\n",
    "    agents = init_agents(population, size_of_matrix)\n",
    "    time.sleep(3)\n",
    "    \n",
    "    for generation in range(generations):\n",
    "        \n",
    "        print(f\"Since Generation: {generation}, Best Fitness We Got {agents[0].fitness}, Fitness We Are Looking for {max_score_to_stop}\")\n",
    "        \n",
    "        agents = fitness(agents)\n",
    "        agents = selection(agents)\n",
    "        agents = crossover(agents)\n",
    "        #agents = mutation(agents)\n",
    "        \n",
    "        agents = fitness(agents)\n",
    "        \n",
    "        time.sleep(.2)\n",
    "        print(\"Sleeping..\")\n",
    "        for agent in agents:\n",
    "            # print(agent.fitness, max_score_to_stop )\n",
    "            if agent.fitness == max_score_to_stop:\n",
    "                print(\"Got the best array\")\n",
    "                print(agent.array)\n",
    "                print(f\"Fitness of the Above Array {agent.fitness}\")\n",
    "                return agents\n",
    "\n",
    "    return agents"
   ]
  },
  {
   "cell_type": "code",
   "execution_count": null,
   "metadata": {},
   "outputs": [],
   "source": []
  },
  {
   "cell_type": "code",
   "execution_count": 526,
   "metadata": {
    "scrolled": true
   },
   "outputs": [
    {
     "name": "stdout",
     "output_type": "stream",
     "text": [
      "Since Generation: 0, Best Fitness We Got 0, Fitness We Are Looking for 360\n",
      "Sleeping..\n",
      "Since Generation: 1, Best Fitness We Got 294, Fitness We Are Looking for 360\n",
      "Sleeping..\n",
      "Since Generation: 2, Best Fitness We Got 306, Fitness We Are Looking for 360\n",
      "Sleeping..\n",
      "Since Generation: 3, Best Fitness We Got 318, Fitness We Are Looking for 360\n",
      "Sleeping..\n",
      "Since Generation: 4, Best Fitness We Got 322, Fitness We Are Looking for 360\n",
      "Sleeping..\n",
      "Since Generation: 5, Best Fitness We Got 324, Fitness We Are Looking for 360\n",
      "Sleeping..\n",
      "Since Generation: 6, Best Fitness We Got 332, Fitness We Are Looking for 360\n",
      "Sleeping..\n",
      "Since Generation: 7, Best Fitness We Got 342, Fitness We Are Looking for 360\n",
      "Sleeping..\n",
      "Since Generation: 8, Best Fitness We Got 344, Fitness We Are Looking for 360\n",
      "Sleeping..\n",
      "Since Generation: 9, Best Fitness We Got 350, Fitness We Are Looking for 360\n",
      "Sleeping..\n",
      "Since Generation: 10, Best Fitness We Got 354, Fitness We Are Looking for 360\n",
      "Sleeping..\n",
      "Got the best array\n",
      "[[3 2 4 1 3 4 2 3 4 1]\n",
      " [1 3 1 2 4 2 3 1 3 2]\n",
      " [3 4 2 1 2 1 2 4 1 3]\n",
      " [1 2 1 2 4 3 4 1 4 1]\n",
      " [3 1 2 4 1 2 3 4 2 4]\n",
      " [4 2 1 3 4 1 4 2 1 3]\n",
      " [2 3 2 4 3 4 3 4 2 1]\n",
      " [3 1 4 1 4 2 4 2 3 4]\n",
      " [4 3 1 4 2 1 2 3 2 1]\n",
      " [1 2 3 1 4 3 1 4 1 4]]\n",
      "Fitness of the Above Array 360\n"
     ]
    }
   ],
   "source": [
    "size_of_matrix = 10\n",
    "population = size_of_matrix * 20\n",
    "generations = 200\n",
    "\n",
    "abc = ga()"
   ]
  },
  {
   "cell_type": "code",
   "execution_count": 503,
   "metadata": {},
   "outputs": [
    {
     "name": "stdout",
     "output_type": "stream",
     "text": [
      "[[  1   2   3   4   5   6   7   8   9  10]\n",
      " [ 11  12  13  14  15  16  17  18  19  20]\n",
      " [ 21  22  23  24  25  26  27  28  29  30]\n",
      " [ 31  32  33  34  35  36  37  38  39  40]\n",
      " [ 41  42  43  44  45  46  47  48  49  50]\n",
      " [ 51  52  53  54  55  56  57  58  59  60]\n",
      " [ 61  62  63  64  65  66  67  68  69  70]\n",
      " [ 71  72  73  74  75  76  77  78  79  80]\n",
      " [ 81  82  83  84  85  86  87  88  89  90]\n",
      " [ 91  92  93  94  95  96  97  98  99 100]]\n"
     ]
    },
    {
     "data": {
      "text/plain": [
       "360"
      ]
     },
     "execution_count": 503,
     "metadata": {},
     "output_type": "execute_result"
    }
   ],
   "source": [
    "get_best_array(size_of_matrix)"
   ]
  },
  {
   "cell_type": "code",
   "execution_count": 489,
   "metadata": {},
   "outputs": [],
   "source": [
    "abc = sorted(abc, key=lambda i: i.fitness, reverse=True)"
   ]
  },
  {
   "cell_type": "code",
   "execution_count": 490,
   "metadata": {},
   "outputs": [
    {
     "data": {
      "text/plain": [
       "360"
      ]
     },
     "execution_count": 490,
     "metadata": {},
     "output_type": "execute_result"
    }
   ],
   "source": [
    "abc[0].fitness"
   ]
  },
  {
   "cell_type": "code",
   "execution_count": 491,
   "metadata": {},
   "outputs": [
    {
     "data": {
      "text/plain": [
       "array([[2, 1, 2, 3, 4, 2, 1, 3, 1, 4],\n",
       "       [4, 2, 4, 2, 1, 3, 2, 1, 2, 1],\n",
       "       [1, 4, 1, 4, 2, 4, 3, 2, 3, 2],\n",
       "       [4, 3, 2, 3, 1, 3, 2, 4, 1, 3],\n",
       "       [1, 2, 4, 1, 2, 4, 1, 3, 4, 1],\n",
       "       [2, 4, 2, 3, 4, 3, 4, 2, 1, 4],\n",
       "       [1, 2, 3, 2, 1, 2, 3, 4, 3, 2],\n",
       "       [3, 1, 4, 1, 3, 4, 2, 1, 2, 3],\n",
       "       [4, 3, 2, 3, 2, 1, 4, 2, 3, 1],\n",
       "       [2, 1, 3, 2, 1, 4, 1, 4, 1, 2]])"
      ]
     },
     "execution_count": 491,
     "metadata": {},
     "output_type": "execute_result"
    }
   ],
   "source": [
    "abc[0].array"
   ]
  },
  {
   "cell_type": "code",
   "execution_count": 492,
   "metadata": {
    "scrolled": true
   },
   "outputs": [],
   "source": [
    "#abc[0].fitness_value_hash"
   ]
  },
  {
   "cell_type": "code",
   "execution_count": 493,
   "metadata": {},
   "outputs": [
    {
     "data": {
      "text/plain": [
       "360"
      ]
     },
     "execution_count": 493,
     "metadata": {},
     "output_type": "execute_result"
    }
   ],
   "source": [
    "sum(abc[0].fitness_value_hash.values())"
   ]
  },
  {
   "cell_type": "code",
   "execution_count": 494,
   "metadata": {},
   "outputs": [
    {
     "data": {
      "text/plain": [
       "array([[2, 1, 2, 3, 4, 2, 1, 3, 1, 4],\n",
       "       [4, 2, 4, 2, 1, 3, 2, 1, 2, 1],\n",
       "       [1, 4, 1, 4, 2, 4, 3, 2, 3, 2],\n",
       "       [4, 3, 2, 3, 1, 3, 2, 4, 1, 3],\n",
       "       [1, 2, 4, 1, 2, 4, 1, 3, 4, 1],\n",
       "       [2, 4, 2, 3, 4, 3, 4, 2, 1, 4],\n",
       "       [1, 2, 3, 2, 1, 2, 3, 4, 3, 2],\n",
       "       [3, 1, 4, 1, 3, 4, 2, 1, 2, 3],\n",
       "       [4, 3, 2, 3, 2, 1, 4, 2, 3, 1],\n",
       "       [2, 1, 3, 2, 1, 4, 1, 4, 1, 2]])"
      ]
     },
     "execution_count": 494,
     "metadata": {},
     "output_type": "execute_result"
    }
   ],
   "source": [
    "abc[0].array"
   ]
  },
  {
   "cell_type": "code",
   "execution_count": 495,
   "metadata": {},
   "outputs": [],
   "source": [
    "given_array = [abc[0]]"
   ]
  },
  {
   "cell_type": "code",
   "execution_count": 496,
   "metadata": {},
   "outputs": [],
   "source": [
    "given_array_fitness = fitness(given_array)[0]"
   ]
  },
  {
   "cell_type": "code",
   "execution_count": 497,
   "metadata": {},
   "outputs": [
    {
     "data": {
      "text/plain": [
       "array([[2, 1, 2, 3, 4, 2, 1, 3, 1, 4],\n",
       "       [4, 2, 4, 2, 1, 3, 2, 1, 2, 1],\n",
       "       [1, 4, 1, 4, 2, 4, 3, 2, 3, 2],\n",
       "       [4, 3, 2, 3, 1, 3, 2, 4, 1, 3],\n",
       "       [1, 2, 4, 1, 2, 4, 1, 3, 4, 1],\n",
       "       [2, 4, 2, 3, 4, 3, 4, 2, 1, 4],\n",
       "       [1, 2, 3, 2, 1, 2, 3, 4, 3, 2],\n",
       "       [3, 1, 4, 1, 3, 4, 2, 1, 2, 3],\n",
       "       [4, 3, 2, 3, 2, 1, 4, 2, 3, 1],\n",
       "       [2, 1, 3, 2, 1, 4, 1, 4, 1, 2]])"
      ]
     },
     "execution_count": 497,
     "metadata": {},
     "output_type": "execute_result"
    }
   ],
   "source": [
    "given_array_fitness.array"
   ]
  },
  {
   "cell_type": "code",
   "execution_count": 498,
   "metadata": {},
   "outputs": [
    {
     "data": {
      "text/plain": [
       "360"
      ]
     },
     "execution_count": 498,
     "metadata": {},
     "output_type": "execute_result"
    }
   ],
   "source": [
    "given_array_fitness.fitness"
   ]
  },
  {
   "cell_type": "code",
   "execution_count": null,
   "metadata": {},
   "outputs": [],
   "source": []
  },
  {
   "cell_type": "code",
   "execution_count": null,
   "metadata": {},
   "outputs": [],
   "source": []
  },
  {
   "cell_type": "code",
   "execution_count": null,
   "metadata": {},
   "outputs": [],
   "source": []
  },
  {
   "cell_type": "code",
   "execution_count": null,
   "metadata": {},
   "outputs": [],
   "source": []
  },
  {
   "cell_type": "code",
   "execution_count": null,
   "metadata": {},
   "outputs": [],
   "source": []
  },
  {
   "cell_type": "code",
   "execution_count": null,
   "metadata": {},
   "outputs": [],
   "source": []
  },
  {
   "cell_type": "code",
   "execution_count": null,
   "metadata": {},
   "outputs": [],
   "source": []
  },
  {
   "cell_type": "code",
   "execution_count": null,
   "metadata": {},
   "outputs": [],
   "source": []
  },
  {
   "cell_type": "code",
   "execution_count": null,
   "metadata": {},
   "outputs": [],
   "source": []
  },
  {
   "cell_type": "code",
   "execution_count": null,
   "metadata": {},
   "outputs": [],
   "source": []
  },
  {
   "cell_type": "code",
   "execution_count": null,
   "metadata": {},
   "outputs": [],
   "source": []
  },
  {
   "cell_type": "markdown",
   "metadata": {},
   "source": [
    "## Testing"
   ]
  },
  {
   "cell_type": "code",
   "execution_count": 320,
   "metadata": {},
   "outputs": [],
   "source": [
    "size_of_matrix = 10\n",
    "population = 10\n",
    "generations = 100"
   ]
  },
  {
   "cell_type": "markdown",
   "metadata": {},
   "source": [
    "### 0. Best_Array_Score"
   ]
  },
  {
   "cell_type": "code",
   "execution_count": 321,
   "metadata": {},
   "outputs": [],
   "source": [
    "max_score_to_stop = get_best_array(size_of_matrix)"
   ]
  },
  {
   "cell_type": "code",
   "execution_count": 322,
   "metadata": {},
   "outputs": [
    {
     "data": {
      "text/plain": [
       "360"
      ]
     },
     "execution_count": 322,
     "metadata": {},
     "output_type": "execute_result"
    }
   ],
   "source": [
    "max_score_to_stop"
   ]
  },
  {
   "cell_type": "markdown",
   "metadata": {},
   "source": [
    "### 1. init_agents"
   ]
  },
  {
   "cell_type": "code",
   "execution_count": 323,
   "metadata": {},
   "outputs": [],
   "source": [
    "agents = init_agents(population, size_of_matrix)"
   ]
  },
  {
   "cell_type": "code",
   "execution_count": 324,
   "metadata": {
    "scrolled": true
   },
   "outputs": [
    {
     "name": "stdout",
     "output_type": "stream",
     "text": [
      "Fitness Value: -1\n",
      "Fitness Value: -1\n",
      "Fitness Value: -1\n",
      "Fitness Value: -1\n",
      "Fitness Value: -1\n",
      "Fitness Value: -1\n",
      "Fitness Value: -1\n",
      "Fitness Value: -1\n",
      "Fitness Value: -1\n",
      "Fitness Value: -1\n"
     ]
    }
   ],
   "source": [
    "for agent in agents:\n",
    "    print(f\"Fitness Value: {agent.fitness}\")"
   ]
  },
  {
   "cell_type": "markdown",
   "metadata": {},
   "source": [
    "### 2. fitness"
   ]
  },
  {
   "cell_type": "code",
   "execution_count": 325,
   "metadata": {},
   "outputs": [],
   "source": [
    "agents = fitness(agents)"
   ]
  },
  {
   "cell_type": "code",
   "execution_count": 326,
   "metadata": {},
   "outputs": [
    {
     "name": "stdout",
     "output_type": "stream",
     "text": [
      "Fitness Value: 180\n",
      "Fitness Value: 220\n",
      "Fitness Value: 196\n",
      "Fitness Value: 180\n",
      "Fitness Value: 188\n",
      "Fitness Value: 180\n",
      "Fitness Value: 196\n",
      "Fitness Value: 184\n",
      "Fitness Value: 172\n",
      "Fitness Value: 192\n"
     ]
    }
   ],
   "source": [
    "for agent in agents:\n",
    "    print(f\"Fitness Value: {agent.fitness}\")"
   ]
  },
  {
   "cell_type": "markdown",
   "metadata": {},
   "source": [
    "### 3. Selection"
   ]
  },
  {
   "cell_type": "code",
   "execution_count": 327,
   "metadata": {
    "scrolled": true
   },
   "outputs": [
    {
     "name": "stdout",
     "output_type": "stream",
     "text": [
      "Fitness: 220\n",
      "Fitness: 196\n",
      "Fitness: 196\n",
      "Fitness: 192\n",
      "Fitness: 188\n",
      "Fitness: 184\n",
      "Fitness: 180\n",
      "Fitness: 180\n",
      "Fitness: 180\n",
      "Fitness: 172\n"
     ]
    }
   ],
   "source": [
    "agents = selection(agents)"
   ]
  },
  {
   "cell_type": "code",
   "execution_count": 328,
   "metadata": {},
   "outputs": [
    {
     "name": "stdout",
     "output_type": "stream",
     "text": [
      "Fitness Value: 220\n",
      "Fitness Value: 196\n",
      "Fitness Value: 196\n",
      "Fitness Value: 192\n"
     ]
    }
   ],
   "source": [
    "for agent in agents:\n",
    "    print(f\"Fitness Value: {agent.fitness}\")"
   ]
  },
  {
   "cell_type": "code",
   "execution_count": 329,
   "metadata": {},
   "outputs": [
    {
     "data": {
      "text/plain": [
       "[<__main__.Agent at 0x118301e50>,\n",
       " <__main__.Agent at 0x11832ed50>,\n",
       " <__main__.Agent at 0x118d03f10>,\n",
       " <__main__.Agent at 0x118d03990>]"
      ]
     },
     "execution_count": 329,
     "metadata": {},
     "output_type": "execute_result"
    }
   ],
   "source": [
    "agents"
   ]
  },
  {
   "cell_type": "markdown",
   "metadata": {},
   "source": [
    "### 4. Crossover"
   ]
  },
  {
   "cell_type": "code",
   "execution_count": 330,
   "metadata": {
    "scrolled": false
   },
   "outputs": [
    {
     "data": {
      "text/plain": [
       "[<__main__.Agent at 0x118301e50>,\n",
       " <__main__.Agent at 0x11832ed50>,\n",
       " <__main__.Agent at 0x118d03f10>,\n",
       " <__main__.Agent at 0x118d03990>,\n",
       " <__main__.Agent at 0x1183253d0>,\n",
       " <__main__.Agent at 0x118d03750>,\n",
       " <__main__.Agent at 0x1183255d0>,\n",
       " <__main__.Agent at 0x118325550>,\n",
       " <__main__.Agent at 0x118325dd0>,\n",
       " <__main__.Agent at 0x1183251d0>]"
      ]
     },
     "execution_count": 330,
     "metadata": {},
     "output_type": "execute_result"
    }
   ],
   "source": [
    "crossover(agents)"
   ]
  },
  {
   "cell_type": "code",
   "execution_count": 331,
   "metadata": {},
   "outputs": [
    {
     "name": "stdout",
     "output_type": "stream",
     "text": [
      "Fitness Value: 220\n",
      "Fitness Value: 196\n",
      "Fitness Value: 196\n",
      "Fitness Value: 192\n",
      "Fitness Value: -1\n",
      "Fitness Value: -1\n",
      "Fitness Value: -1\n",
      "Fitness Value: -1\n",
      "Fitness Value: -1\n",
      "Fitness Value: -1\n"
     ]
    }
   ],
   "source": [
    "for agent in agents:\n",
    "    print(f\"Fitness Value: {agent.fitness}\")"
   ]
  },
  {
   "cell_type": "markdown",
   "metadata": {},
   "source": [
    "### 5. Mutation"
   ]
  },
  {
   "cell_type": "code",
   "execution_count": 333,
   "metadata": {},
   "outputs": [],
   "source": [
    "agents = mutation(agents)"
   ]
  },
  {
   "cell_type": "code",
   "execution_count": 334,
   "metadata": {},
   "outputs": [
    {
     "name": "stdout",
     "output_type": "stream",
     "text": [
      "Fitness Value: 220\n",
      "Fitness Value: 196\n",
      "Fitness Value: 196\n",
      "Fitness Value: 192\n",
      "Fitness Value: -1\n",
      "Fitness Value: -1\n",
      "Fitness Value: -1\n",
      "Fitness Value: -1\n",
      "Fitness Value: -1\n",
      "Fitness Value: -1\n"
     ]
    }
   ],
   "source": [
    "for agent in agents:\n",
    "    print(f\"Fitness Value: {agent.fitness}\")\n",
    "        "
   ]
  },
  {
   "cell_type": "code",
   "execution_count": 335,
   "metadata": {},
   "outputs": [
    {
     "data": {
      "text/plain": [
       "[<__main__.Agent at 0x118301e50>,\n",
       " <__main__.Agent at 0x11832ed50>,\n",
       " <__main__.Agent at 0x118d03f10>,\n",
       " <__main__.Agent at 0x118d03990>,\n",
       " <__main__.Agent at 0x1183253d0>,\n",
       " <__main__.Agent at 0x118d03750>,\n",
       " <__main__.Agent at 0x1183255d0>,\n",
       " <__main__.Agent at 0x118325550>,\n",
       " <__main__.Agent at 0x118325dd0>,\n",
       " <__main__.Agent at 0x1183251d0>]"
      ]
     },
     "execution_count": 335,
     "metadata": {},
     "output_type": "execute_result"
    }
   ],
   "source": [
    "agents"
   ]
  },
  {
   "cell_type": "markdown",
   "metadata": {},
   "source": [
    "### 6. Repeat from Step 2"
   ]
  },
  {
   "cell_type": "markdown",
   "metadata": {},
   "source": [
    "### Rough"
   ]
  },
  {
   "cell_type": "code",
   "execution_count": 349,
   "metadata": {},
   "outputs": [],
   "source": [
    "a = init_agents(2, 10)"
   ]
  },
  {
   "cell_type": "code",
   "execution_count": 350,
   "metadata": {},
   "outputs": [
    {
     "data": {
      "text/plain": [
       "array([[1, 1, 3, 3, 4, 3, 2, 4, 4, 1],\n",
       "       [1, 2, 1, 4, 2, 2, 4, 3, 3, 3],\n",
       "       [2, 2, 2, 1, 1, 3, 3, 3, 4, 3],\n",
       "       [4, 4, 4, 3, 4, 2, 4, 4, 3, 2],\n",
       "       [1, 4, 2, 2, 3, 3, 3, 2, 1, 4],\n",
       "       [4, 3, 1, 3, 2, 1, 3, 2, 4, 1],\n",
       "       [1, 4, 3, 2, 2, 4, 3, 3, 1, 2],\n",
       "       [3, 3, 2, 4, 3, 3, 4, 3, 4, 4],\n",
       "       [2, 3, 4, 1, 2, 3, 4, 2, 4, 3],\n",
       "       [2, 2, 2, 1, 2, 2, 1, 2, 2, 4]])"
      ]
     },
     "execution_count": 350,
     "metadata": {},
     "output_type": "execute_result"
    }
   ],
   "source": [
    "a[0].array"
   ]
  },
  {
   "cell_type": "code",
   "execution_count": 351,
   "metadata": {},
   "outputs": [
    {
     "data": {
      "text/plain": [
       "array([[2, 3, 3, 1, 4, 4, 4, 1, 2, 1],\n",
       "       [1, 2, 2, 4, 1, 4, 2, 4, 3, 3],\n",
       "       [2, 3, 3, 2, 2, 3, 1, 4, 4, 2],\n",
       "       [1, 4, 4, 2, 3, 2, 4, 1, 4, 2],\n",
       "       [1, 3, 2, 3, 2, 3, 1, 4, 1, 2],\n",
       "       [1, 2, 1, 4, 2, 3, 1, 4, 2, 1],\n",
       "       [2, 3, 2, 2, 4, 4, 4, 2, 3, 2],\n",
       "       [4, 1, 4, 4, 1, 1, 3, 1, 4, 2],\n",
       "       [1, 4, 2, 3, 3, 3, 1, 4, 2, 2],\n",
       "       [3, 4, 3, 1, 4, 1, 3, 4, 1, 1]])"
      ]
     },
     "execution_count": 351,
     "metadata": {},
     "output_type": "execute_result"
    }
   ],
   "source": [
    "a[1].array"
   ]
  },
  {
   "cell_type": "code",
   "execution_count": 354,
   "metadata": {},
   "outputs": [
    {
     "name": "stdout",
     "output_type": "stream",
     "text": [
      "10\n",
      "4\n",
      "7\n",
      "6\n"
     ]
    }
   ],
   "source": [
    "b = crossover(a)"
   ]
  },
  {
   "cell_type": "code",
   "execution_count": 360,
   "metadata": {},
   "outputs": [
    {
     "data": {
      "text/plain": [
       "array([[2, 3, 3, 1, 4, 4, 4, 1, 2, 1],\n",
       "       [1, 2, 2, 4, 1, 4, 2, 4, 3, 3],\n",
       "       [2, 3, 3, 2, 2, 3, 1, 4, 4, 2],\n",
       "       [1, 4, 4, 2, 3, 2, 4, 1, 4, 2],\n",
       "       [1, 3, 2, 3, 2, 3, 1, 4, 1, 2],\n",
       "       [1, 2, 1, 4, 2, 3, 1, 4, 2, 1],\n",
       "       [2, 3, 2, 2, 4, 4, 4, 2, 3, 2],\n",
       "       [4, 1, 4, 4, 1, 1, 3, 1, 4, 2],\n",
       "       [1, 4, 2, 3, 3, 3, 1, 4, 2, 2],\n",
       "       [3, 4, 3, 1, 4, 1, 3, 4, 1, 1]])"
      ]
     },
     "execution_count": 360,
     "metadata": {},
     "output_type": "execute_result"
    }
   ],
   "source": [
    "b[3].array"
   ]
  },
  {
   "cell_type": "code",
   "execution_count": 356,
   "metadata": {},
   "outputs": [
    {
     "data": {
      "text/plain": [
       "[<__main__.Agent at 0x1183447d0>,\n",
       " <__main__.Agent at 0x1183446d0>,\n",
       " <__main__.Agent at 0x1190ca090>,\n",
       " <__main__.Agent at 0x1190ca390>,\n",
       " <__main__.Agent at 0x1190ca610>,\n",
       " <__main__.Agent at 0x1190ca850>,\n",
       " <__main__.Agent at 0x118325490>,\n",
       " <__main__.Agent at 0x1190ca890>,\n",
       " <__main__.Agent at 0x119a3af90>,\n",
       " <__main__.Agent at 0x118a96910>]"
      ]
     },
     "execution_count": 356,
     "metadata": {},
     "output_type": "execute_result"
    }
   ],
   "source": [
    "b[0]"
   ]
  },
  {
   "cell_type": "code",
   "execution_count": null,
   "metadata": {},
   "outputs": [],
   "source": []
  }
 ],
 "metadata": {
  "kernelspec": {
   "display_name": "Python 3",
   "language": "python",
   "name": "python3"
  },
  "language_info": {
   "codemirror_mode": {
    "name": "ipython",
    "version": 3
   },
   "file_extension": ".py",
   "mimetype": "text/x-python",
   "name": "python",
   "nbconvert_exporter": "python",
   "pygments_lexer": "ipython3",
   "version": "3.7.6"
  }
 },
 "nbformat": 4,
 "nbformat_minor": 4
}
