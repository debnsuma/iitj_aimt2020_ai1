{
 "cells": [
  {
   "cell_type": "code",
   "execution_count": 310,
   "metadata": {},
   "outputs": [],
   "source": [
    "import numpy as np\n",
    "import pandas as pd\n",
    "import random\n"
   ]
  },
  {
   "cell_type": "markdown",
   "metadata": {},
   "source": [
    "### Get the dimention of the block"
   ]
  },
  {
   "cell_type": "code",
   "execution_count": 427,
   "metadata": {},
   "outputs": [],
   "source": [
    "n = 5\n",
    "array = np.random.randint(low=1, high=5, size=(n, n))"
   ]
  },
  {
   "cell_type": "code",
   "execution_count": 428,
   "metadata": {},
   "outputs": [],
   "source": [
    "colour_hash = [1,2,3,4]"
   ]
  },
  {
   "cell_type": "code",
   "execution_count": 429,
   "metadata": {},
   "outputs": [
    {
     "data": {
      "text/plain": [
       "array([[4, 3, 3, 2, 1],\n",
       "       [2, 3, 3, 2, 2],\n",
       "       [2, 2, 1, 1, 4],\n",
       "       [3, 3, 2, 4, 1],\n",
       "       [2, 1, 1, 1, 2]])"
      ]
     },
     "execution_count": 429,
     "metadata": {},
     "output_type": "execute_result"
    }
   ],
   "source": [
    "array"
   ]
  },
  {
   "cell_type": "code",
   "execution_count": 430,
   "metadata": {},
   "outputs": [
    {
     "data": {
      "text/plain": [
       "3"
      ]
     },
     "execution_count": 430,
     "metadata": {},
     "output_type": "execute_result"
    }
   ],
   "source": [
    "array[1][1]"
   ]
  },
  {
   "cell_type": "markdown",
   "metadata": {},
   "source": [
    "### Get Adjacent Blocks and its Color"
   ]
  },
  {
   "cell_type": "code",
   "execution_count": 431,
   "metadata": {},
   "outputs": [],
   "source": [
    "def get_adjusent(array, i_row, j_column):\n",
    "    \n",
    "    neighbours = {}\n",
    "    \n",
    "    try:\n",
    "        left_element = i_row, j_column - 1\n",
    "        neighbours[left_element] = (array[left_element[0], left_element[1]])\n",
    "\n",
    "    except IndexError:\n",
    "        pass\n",
    "        \n",
    "    try: \n",
    "        right_element = i_row, j_column + 1\n",
    "        neighbours[right_element] = (array[right_element[0], right_element[1]])\n",
    "    \n",
    "    except IndexError:\n",
    "        pass\n",
    "        \n",
    "    try:\n",
    "        up_element = i_row - 1, j_column\n",
    "        neighbours[up_element] = (array[up_element[0], up_element[1]])\n",
    "   \n",
    "    except IndexError:\n",
    "        pass\n",
    "    \n",
    "    try:\n",
    "        down_element = i_row + 1, j_column\n",
    "        neighbours[down_element] = (array[down_element[0], down_element[1]])\n",
    "\n",
    "    except IndexError:\n",
    "        pass\n",
    "\n",
    "    # Removing the negative index(-1) neighbour\n",
    "    marker = []\n",
    "    for i in neighbours.keys():\n",
    "        if -1 in i:\n",
    "            marker.append(i)\n",
    "    if marker != []:\n",
    "        for i in marker:\n",
    "            del neighbours[i]    \n",
    "\n",
    "    return neighbours\n",
    "    \n",
    "    "
   ]
  },
  {
   "cell_type": "code",
   "execution_count": 432,
   "metadata": {},
   "outputs": [],
   "source": [
    "i = n-1\n",
    "j = n-3"
   ]
  },
  {
   "cell_type": "code",
   "execution_count": 433,
   "metadata": {},
   "outputs": [],
   "source": [
    "a = array[i][j]"
   ]
  },
  {
   "cell_type": "code",
   "execution_count": 434,
   "metadata": {},
   "outputs": [
    {
     "data": {
      "text/plain": [
       "array([[4, 3, 3, 2, 1],\n",
       "       [2, 3, 3, 2, 2],\n",
       "       [2, 2, 1, 1, 4],\n",
       "       [3, 3, 2, 4, 1],\n",
       "       [2, 1, 1, 1, 2]])"
      ]
     },
     "execution_count": 434,
     "metadata": {},
     "output_type": "execute_result"
    }
   ],
   "source": [
    "array"
   ]
  },
  {
   "cell_type": "code",
   "execution_count": 435,
   "metadata": {},
   "outputs": [],
   "source": [
    "adjusent_to_a = get_adjusent(array, i, j )"
   ]
  },
  {
   "cell_type": "code",
   "execution_count": 436,
   "metadata": {},
   "outputs": [
    {
     "data": {
      "text/plain": [
       "{(4, 1): 1, (4, 3): 1, (3, 2): 2}"
      ]
     },
     "execution_count": 436,
     "metadata": {},
     "output_type": "execute_result"
    }
   ],
   "source": [
    "adjusent_to_a"
   ]
  },
  {
   "cell_type": "code",
   "execution_count": 437,
   "metadata": {},
   "outputs": [
    {
     "data": {
      "text/plain": [
       "1"
      ]
     },
     "execution_count": 437,
     "metadata": {},
     "output_type": "execute_result"
    }
   ],
   "source": [
    "array[i, j]"
   ]
  },
  {
   "cell_type": "markdown",
   "metadata": {},
   "source": [
    "### Fitness Function"
   ]
  },
  {
   "cell_type": "code",
   "execution_count": 438,
   "metadata": {},
   "outputs": [],
   "source": [
    "def fitness_func(array):\n",
    "    fitness_value_hash = {}\n",
    "    for index, x in np.ndenumerate(array):\n",
    "        \n",
    "        fitness_value_each_element = 0\n",
    "        \n",
    "        adjusent_to_x = get_adjusent(array, *index)\n",
    "        for colour in adjusent_to_x.values():\n",
    "            if colour == x:\n",
    "                fitness_value_each_element += 1\n",
    "        \n",
    "        fitness_value_hash[index] = fitness_value_each_element\n",
    " #       print(f\"Element Index {index}, Fitness Value {fitness_value_each_element}\")\n",
    "    \n",
    "    fitness_value_hash_sorted = {k: v for k, v in sorted(fitness_hash.items(), key=lambda item: item[1], reverse=True)}\n",
    "\n",
    "    return fitness_value_hash_sorted"
   ]
  },
  {
   "cell_type": "code",
   "execution_count": 439,
   "metadata": {},
   "outputs": [],
   "source": [
    "fitness_hash = fitness_func(array)"
   ]
  },
  {
   "cell_type": "code",
   "execution_count": 440,
   "metadata": {},
   "outputs": [
    {
     "data": {
      "text/plain": [
       "{(2, 1): 2,\n",
       " (3, 1): 2,\n",
       " (0, 3): 1,\n",
       " (0, 4): 1,\n",
       " (1, 1): 1,\n",
       " (3, 0): 1,\n",
       " (0, 0): 0,\n",
       " (0, 1): 0,\n",
       " (0, 2): 0,\n",
       " (1, 0): 0,\n",
       " (1, 2): 0,\n",
       " (1, 3): 0,\n",
       " (1, 4): 0,\n",
       " (2, 0): 0,\n",
       " (2, 2): 0,\n",
       " (2, 3): 0,\n",
       " (2, 4): 0,\n",
       " (3, 2): 0,\n",
       " (3, 3): 0,\n",
       " (3, 4): 0,\n",
       " (4, 0): 0,\n",
       " (4, 1): 0,\n",
       " (4, 2): 0,\n",
       " (4, 3): 0,\n",
       " (4, 4): 0}"
      ]
     },
     "execution_count": 440,
     "metadata": {},
     "output_type": "execute_result"
    }
   ],
   "source": [
    "fitness_hash"
   ]
  },
  {
   "cell_type": "markdown",
   "metadata": {},
   "source": [
    "### Selection Function"
   ]
  },
  {
   "cell_type": "code",
   "execution_count": 441,
   "metadata": {},
   "outputs": [],
   "source": [
    "def selection(array):\n",
    "    fitness_hash = fitness_func(array)\n",
    "\n",
    "    impure_items = {}\n",
    "    for i in fitness_hash:\n",
    "        if fitness_hash[i] != 0:\n",
    "            impure_items[i] = fitness_hash[i]\n",
    " #           print(impure_items)    \n",
    "\n",
    "    all_imp_elements = impure_items.keys()\n",
    "    all_imp_rows = set([i[0] for i in all_imp_elements])\n",
    "    all_imp_col = set([i[1] for i in all_imp_elements])\n",
    "    \n",
    "    return all_imp_elements, all_imp_rows, all_imp_col"
   ]
  },
  {
   "cell_type": "code",
   "execution_count": 442,
   "metadata": {},
   "outputs": [],
   "source": [
    "all_imp_elements, all_imp_rows, all_imp_col = selection(array)"
   ]
  },
  {
   "cell_type": "code",
   "execution_count": 443,
   "metadata": {},
   "outputs": [
    {
     "data": {
      "text/plain": [
       "dict_keys([(2, 1), (3, 1), (0, 3), (0, 4), (1, 1), (3, 0)])"
      ]
     },
     "execution_count": 443,
     "metadata": {},
     "output_type": "execute_result"
    }
   ],
   "source": [
    "all_imp_elements"
   ]
  },
  {
   "cell_type": "code",
   "execution_count": 444,
   "metadata": {},
   "outputs": [
    {
     "data": {
      "text/plain": [
       "{0, 1, 2, 3}"
      ]
     },
     "execution_count": 444,
     "metadata": {},
     "output_type": "execute_result"
    }
   ],
   "source": [
    "all_imp_rows"
   ]
  },
  {
   "cell_type": "code",
   "execution_count": 445,
   "metadata": {},
   "outputs": [
    {
     "data": {
      "text/plain": [
       "{0, 1, 3, 4}"
      ]
     },
     "execution_count": 445,
     "metadata": {},
     "output_type": "execute_result"
    }
   ],
   "source": [
    "all_imp_col"
   ]
  },
  {
   "cell_type": "markdown",
   "metadata": {},
   "source": [
    "### Crossover Function"
   ]
  },
  {
   "cell_type": "code",
   "execution_count": 450,
   "metadata": {},
   "outputs": [],
   "source": [
    "def crossover_function(array, all_imp_elements, all_imp_rows, all_imp_col, colour_hash=colour_hash):\n",
    "    \n",
    "    set_new_offspring = []\n",
    "    for element in all_imp_elements:\n",
    "        \n",
    "        new_array = array.copy()\n",
    "        mycol_hash = colour_hash.copy()\n",
    "        \n",
    "        present_color = array[element]\n",
    "        mycol_hash.remove(present_color)\n",
    "        new_color = random.choice(mycol_hash)\n",
    "        new_array[element] = new_color\n",
    "        set_new_offspring.append(new_array)\n",
    "\n",
    "        new_array = array.copy()\n",
    "        mycol_hash = colour_hash.copy()\n",
    "        \n",
    "        #print(sum(fitness_func(new_array).values()))\n",
    "    return set_new_offspring"
   ]
  },
  {
   "cell_type": "code",
   "execution_count": 451,
   "metadata": {},
   "outputs": [
    {
     "data": {
      "text/plain": [
       "[array([[4, 3, 3, 2, 1],\n",
       "        [2, 3, 3, 2, 2],\n",
       "        [2, 3, 1, 1, 4],\n",
       "        [3, 3, 2, 4, 1],\n",
       "        [2, 1, 1, 1, 2]]),\n",
       " array([[4, 3, 3, 2, 1],\n",
       "        [2, 3, 3, 2, 2],\n",
       "        [2, 2, 1, 1, 4],\n",
       "        [3, 1, 2, 4, 1],\n",
       "        [2, 1, 1, 1, 2]]),\n",
       " array([[4, 3, 3, 1, 1],\n",
       "        [2, 3, 3, 2, 2],\n",
       "        [2, 2, 1, 1, 4],\n",
       "        [3, 3, 2, 4, 1],\n",
       "        [2, 1, 1, 1, 2]]),\n",
       " array([[4, 3, 3, 2, 2],\n",
       "        [2, 3, 3, 2, 2],\n",
       "        [2, 2, 1, 1, 4],\n",
       "        [3, 3, 2, 4, 1],\n",
       "        [2, 1, 1, 1, 2]]),\n",
       " array([[4, 3, 3, 2, 1],\n",
       "        [2, 4, 3, 2, 2],\n",
       "        [2, 2, 1, 1, 4],\n",
       "        [3, 3, 2, 4, 1],\n",
       "        [2, 1, 1, 1, 2]]),\n",
       " array([[4, 3, 3, 2, 1],\n",
       "        [2, 3, 3, 2, 2],\n",
       "        [2, 2, 1, 1, 4],\n",
       "        [4, 3, 2, 4, 1],\n",
       "        [2, 1, 1, 1, 2]])]"
      ]
     },
     "execution_count": 451,
     "metadata": {},
     "output_type": "execute_result"
    }
   ],
   "source": [
    "crossover_function(array, all_imp_elements, all_imp_rows, all_imp_col)"
   ]
  },
  {
   "cell_type": "code",
   "execution_count": null,
   "metadata": {},
   "outputs": [],
   "source": []
  },
  {
   "cell_type": "code",
   "execution_count": null,
   "metadata": {},
   "outputs": [],
   "source": []
  },
  {
   "cell_type": "markdown",
   "metadata": {},
   "source": [
    "### Main Function"
   ]
  },
  {
   "cell_type": "code",
   "execution_count": 358,
   "metadata": {},
   "outputs": [],
   "source": [
    "n = 5\n",
    "array = np.random.randint(low=1, high=n+1, size=(n, n))"
   ]
  },
  {
   "cell_type": "code",
   "execution_count": 359,
   "metadata": {},
   "outputs": [],
   "source": [
    "colour_hash = [1,2,3,4]"
   ]
  },
  {
   "cell_type": "code",
   "execution_count": 360,
   "metadata": {},
   "outputs": [],
   "source": [
    "fitness_hash = fitness_func(array)"
   ]
  },
  {
   "cell_type": "code",
   "execution_count": 466,
   "metadata": {},
   "outputs": [],
   "source": [
    "max_count = 100\n",
    "\n",
    "def start_checking(array):\n",
    "    \n",
    "    global max_count    \n",
    "    if max_count < 0:\n",
    "        return new_arrays\n",
    "    else:\n",
    "        all_imp_elements, all_imp_rows, all_imp_col = selection(array)\n",
    "        new_arrays = crossover_function(array, all_imp_elements, all_imp_rows, all_imp_col)\n",
    "\n",
    "        for a in new_arrays:\n",
    "            if sum(fitness_func(a).values()) == 0:\n",
    "                return a  \n",
    "            else:\n",
    "                max_count -= 1\n",
    "                print(a)\n",
    "                print(fitness_func(a).values())\n",
    "                start_checking(a)\n",
    "    \n",
    "    \n",
    "    "
   ]
  },
  {
   "cell_type": "code",
   "execution_count": 468,
   "metadata": {},
   "outputs": [
    {
     "data": {
      "text/plain": [
       "array([[4, 3, 3, 2, 1],\n",
       "       [2, 3, 3, 2, 2],\n",
       "       [2, 2, 1, 1, 4],\n",
       "       [3, 3, 2, 4, 1],\n",
       "       [2, 1, 1, 1, 2]])"
      ]
     },
     "execution_count": 468,
     "metadata": {},
     "output_type": "execute_result"
    }
   ],
   "source": [
    "array"
   ]
  },
  {
   "cell_type": "code",
   "execution_count": 469,
   "metadata": {},
   "outputs": [
    {
     "data": {
      "text/plain": [
       "{(2, 1): 2,\n",
       " (3, 1): 2,\n",
       " (0, 3): 1,\n",
       " (0, 4): 1,\n",
       " (1, 1): 1,\n",
       " (3, 0): 1,\n",
       " (0, 0): 0,\n",
       " (0, 1): 0,\n",
       " (0, 2): 0,\n",
       " (1, 0): 0,\n",
       " (1, 2): 0,\n",
       " (1, 3): 0,\n",
       " (1, 4): 0,\n",
       " (2, 0): 0,\n",
       " (2, 2): 0,\n",
       " (2, 3): 0,\n",
       " (2, 4): 0,\n",
       " (3, 2): 0,\n",
       " (3, 3): 0,\n",
       " (3, 4): 0,\n",
       " (4, 0): 0,\n",
       " (4, 1): 0,\n",
       " (4, 2): 0,\n",
       " (4, 3): 0,\n",
       " (4, 4): 0}"
      ]
     },
     "execution_count": 469,
     "metadata": {},
     "output_type": "execute_result"
    }
   ],
   "source": [
    "fitness_func(array)"
   ]
  },
  {
   "cell_type": "code",
   "execution_count": null,
   "metadata": {},
   "outputs": [],
   "source": []
  },
  {
   "cell_type": "code",
   "execution_count": null,
   "metadata": {},
   "outputs": [],
   "source": []
  },
  {
   "cell_type": "code",
   "execution_count": null,
   "metadata": {},
   "outputs": [],
   "source": []
  },
  {
   "cell_type": "markdown",
   "metadata": {},
   "source": [
    "### Testing the Fitness Function (Internal) Value should be 0 - This section is not needed for the problem"
   ]
  },
  {
   "cell_type": "code",
   "execution_count": 192,
   "metadata": {},
   "outputs": [],
   "source": [
    "max_range = n*n + 1\n",
    "best_array = np.reshape(range(1, max_range), (n,n))"
   ]
  },
  {
   "cell_type": "code",
   "execution_count": 193,
   "metadata": {
    "scrolled": false
   },
   "outputs": [
    {
     "data": {
      "text/plain": [
       "array([[  1,   2,   3,   4,   5,   6,   7,   8,   9,  10],\n",
       "       [ 11,  12,  13,  14,  15,  16,  17,  18,  19,  20],\n",
       "       [ 21,  22,  23,  24,  25,  26,  27,  28,  29,  30],\n",
       "       [ 31,  32,  33,  34,  35,  36,  37,  38,  39,  40],\n",
       "       [ 41,  42,  43,  44,  45,  46,  47,  48,  49,  50],\n",
       "       [ 51,  52,  53,  54,  55,  56,  57,  58,  59,  60],\n",
       "       [ 61,  62,  63,  64,  65,  66,  67,  68,  69,  70],\n",
       "       [ 71,  72,  73,  74,  75,  76,  77,  78,  79,  80],\n",
       "       [ 81,  82,  83,  84,  85,  86,  87,  88,  89,  90],\n",
       "       [ 91,  92,  93,  94,  95,  96,  97,  98,  99, 100]])"
      ]
     },
     "execution_count": 193,
     "metadata": {},
     "output_type": "execute_result"
    }
   ],
   "source": [
    "best_array"
   ]
  },
  {
   "cell_type": "code",
   "execution_count": 363,
   "metadata": {},
   "outputs": [
    {
     "data": {
      "text/plain": [
       "8"
      ]
     },
     "execution_count": 363,
     "metadata": {},
     "output_type": "execute_result"
    }
   ],
   "source": [
    "sum(fitness_func(best_array).values())"
   ]
  },
  {
   "cell_type": "code",
   "execution_count": null,
   "metadata": {},
   "outputs": [],
   "source": []
  },
  {
   "cell_type": "code",
   "execution_count": null,
   "metadata": {},
   "outputs": [],
   "source": []
  },
  {
   "cell_type": "code",
   "execution_count": null,
   "metadata": {},
   "outputs": [],
   "source": []
  },
  {
   "cell_type": "code",
   "execution_count": null,
   "metadata": {},
   "outputs": [],
   "source": []
  },
  {
   "cell_type": "code",
   "execution_count": null,
   "metadata": {},
   "outputs": [],
   "source": []
  },
  {
   "cell_type": "code",
   "execution_count": null,
   "metadata": {},
   "outputs": [],
   "source": []
  },
  {
   "cell_type": "code",
   "execution_count": null,
   "metadata": {},
   "outputs": [],
   "source": []
  },
  {
   "cell_type": "code",
   "execution_count": null,
   "metadata": {},
   "outputs": [],
   "source": []
  },
  {
   "cell_type": "markdown",
   "metadata": {},
   "source": [
    "### Rough"
   ]
  },
  {
   "cell_type": "code",
   "execution_count": 137,
   "metadata": {
    "scrolled": false
   },
   "outputs": [
    {
     "name": "stdout",
     "output_type": "stream",
     "text": [
      "(0, 0) 4\n",
      "(0, 1) 2\n",
      "(0, 2) 1\n",
      "(0, 3) 4\n",
      "(0, 4) 2\n",
      "(1, 0) 2\n",
      "(1, 1) 4\n",
      "(1, 2) 4\n",
      "(1, 3) 4\n",
      "(1, 4) 3\n",
      "(2, 0) 3\n",
      "(2, 1) 2\n",
      "(2, 2) 1\n",
      "(2, 3) 3\n",
      "(2, 4) 4\n",
      "(3, 0) 1\n",
      "(3, 1) 3\n",
      "(3, 2) 1\n",
      "(3, 3) 2\n",
      "(3, 4) 3\n",
      "(4, 0) 2\n",
      "(4, 1) 2\n",
      "(4, 2) 3\n",
      "(4, 3) 4\n",
      "(4, 4) 4\n"
     ]
    }
   ],
   "source": [
    "for index, x in np.ndenumerate(array):\n",
    "    print(index, x)"
   ]
  },
  {
   "cell_type": "code",
   "execution_count": 175,
   "metadata": {},
   "outputs": [
    {
     "data": {
      "text/plain": [
       "array([[  1,   2,   3,   4,   5,   6,   7,   8,   9,  10],\n",
       "       [ 11,  12,  13,  14,  15,  16,  17,  18,  19,  20],\n",
       "       [ 21,  22,  23,  24,  25,  26,  27,  28,  29,  30],\n",
       "       [ 31,  32,  33,  34,  35,  36,  37,  38,  39,  40],\n",
       "       [ 41,  42,  43,  44,  45,  46,  47,  48,  49,  50],\n",
       "       [ 51,  52,  53,  54,  55,  56,  57,  58,  59,  60],\n",
       "       [ 61,  62,  63,  64,  65,  66,  67,  68,  69,  70],\n",
       "       [ 71,  72,  73,  74,  75,  76,  77,  78,  79,  80],\n",
       "       [ 81,  82,  83,  84,  85,  86,  87,  88,  89,  90],\n",
       "       [ 91,  92,  93,  94,  95,  96,  97,  98,  99, 100]])"
      ]
     },
     "execution_count": 175,
     "metadata": {},
     "output_type": "execute_result"
    }
   ],
   "source": [
    "np.reshape(np.array(range(1, 101)), (10,10))"
   ]
  },
  {
   "cell_type": "code",
   "execution_count": null,
   "metadata": {},
   "outputs": [],
   "source": []
  }
 ],
 "metadata": {
  "kernelspec": {
   "display_name": "Python 3",
   "language": "python",
   "name": "python3"
  },
  "language_info": {
   "codemirror_mode": {
    "name": "ipython",
    "version": 3
   },
   "file_extension": ".py",
   "mimetype": "text/x-python",
   "name": "python",
   "nbconvert_exporter": "python",
   "pygments_lexer": "ipython3",
   "version": "3.7.6"
  }
 },
 "nbformat": 4,
 "nbformat_minor": 4
}
