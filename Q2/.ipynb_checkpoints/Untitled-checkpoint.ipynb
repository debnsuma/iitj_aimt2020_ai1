{
 "cells": [
  {
   "cell_type": "code",
   "execution_count": 1,
   "metadata": {},
   "outputs": [],
   "source": [
    "import random\n",
    "import numpy as np "
   ]
  },
  {
   "cell_type": "code",
   "execution_count": null,
   "metadata": {},
   "outputs": [],
   "source": []
  },
  {
   "cell_type": "code",
   "execution_count": 17,
   "metadata": {},
   "outputs": [],
   "source": [
    "class Agent:\n",
    "    \n",
    "    def __init__(self, n):\n",
    "        \n",
    "        self.array = np.random.randint(low=1, high=5, size=(n, n))\n",
    "        self.fitness = -1 \n",
    "        \n",
    "        fitness_value_hash = {}\n",
    "        for index, x in np.ndenumerate(self.array):\n",
    "            fitness_value_hash[index] = 0\n",
    "        \n",
    "        self.fitness_value_hash = fitness_value_hash\n",
    "        \n",
    "    def __str__(self):\n",
    "        #return (f\"Array: \\n {self.array} \\nFitness: {self.fitness}\")\n",
    "        return (f\"Fitness: {self.fitness} \\n Fitness Hash: {self.fitness_value_hash}\")"
   ]
  },
  {
   "cell_type": "code",
   "execution_count": 18,
   "metadata": {},
   "outputs": [],
   "source": [
    "def get_adjusent(array, i_row, j_column):\n",
    "    \n",
    "    neighbours = {}\n",
    "    \n",
    "    try:\n",
    "        left_element = i_row, j_column - 1\n",
    "        neighbours[left_element] = (array[left_element[0], left_element[1]])\n",
    "\n",
    "    except IndexError:\n",
    "        pass\n",
    "        \n",
    "    try: \n",
    "        right_element = i_row, j_column + 1\n",
    "        neighbours[right_element] = (array[right_element[0], right_element[1]])\n",
    "    \n",
    "    except IndexError:\n",
    "        pass\n",
    "        \n",
    "    try:\n",
    "        up_element = i_row - 1, j_column\n",
    "        neighbours[up_element] = (array[up_element[0], up_element[1]])\n",
    "   \n",
    "    except IndexError:\n",
    "        pass\n",
    "    \n",
    "    try:\n",
    "        down_element = i_row + 1, j_column\n",
    "        neighbours[down_element] = (array[down_element[0], down_element[1]])\n",
    "\n",
    "    except IndexError:\n",
    "        pass\n",
    "\n",
    "    # Removing the negative index(-1) neighbour\n",
    "    marker = []\n",
    "    for i in neighbours.keys():\n",
    "        if -1 in i:\n",
    "            marker.append(i)\n",
    "    if marker != []:\n",
    "        for i in marker:\n",
    "            del neighbours[i]    \n",
    "\n",
    "    return neighbours\n",
    "    \n",
    "    "
   ]
  },
  {
   "cell_type": "code",
   "execution_count": 6,
   "metadata": {},
   "outputs": [],
   "source": [
    "size_of_matrix = 10\n",
    "population = 100\n",
    "generations = 1000"
   ]
  },
  {
   "cell_type": "code",
   "execution_count": 4,
   "metadata": {},
   "outputs": [],
   "source": [
    "def ga():\n",
    "    \n",
    "    agents = init_agents(population, size_of_matrix)\n",
    "    \n",
    "    for generation in range(generations):\n",
    "        \n",
    "        print(f\"Generation: {generation}\")\n",
    "        \n",
    "        agents = fitness(agents)\n",
    "        agents = selection(agents)\n",
    "        agents = crossover(agents)\n",
    "        agents = mutation(agents)\n",
    "        \n",
    "        for agent in agents:\n",
    "            if agent.fitness == 0:\n",
    "                print(\"Got the best array\")\n",
    "                print(agent)\n",
    "                exit(0)"
   ]
  },
  {
   "cell_type": "code",
   "execution_count": 5,
   "metadata": {},
   "outputs": [],
   "source": [
    "def init_agents(population, size):\n",
    "    \n",
    "    return [Agent(size) for _ in range(population)]"
   ]
  },
  {
   "cell_type": "code",
   "execution_count": null,
   "metadata": {},
   "outputs": [],
   "source": []
  }
 ],
 "metadata": {
  "kernelspec": {
   "display_name": "Python 3",
   "language": "python",
   "name": "python3"
  },
  "language_info": {
   "codemirror_mode": {
    "name": "ipython",
    "version": 3
   },
   "file_extension": ".py",
   "mimetype": "text/x-python",
   "name": "python",
   "nbconvert_exporter": "python",
   "pygments_lexer": "ipython3",
   "version": "3.7.6"
  }
 },
 "nbformat": 4,
 "nbformat_minor": 4
}
