{
 "cells": [
  {
   "cell_type": "markdown",
   "metadata": {},
   "source": [
    "## Imprting the Modules"
   ]
  },
  {
   "cell_type": "code",
   "execution_count": 1,
   "metadata": {},
   "outputs": [],
   "source": [
    "import random\n",
    "import time\n",
    "import sys"
   ]
  },
  {
   "cell_type": "markdown",
   "metadata": {},
   "source": [
    "# Main Code Do Start from here "
   ]
  },
  {
   "cell_type": "markdown",
   "metadata": {},
   "source": [
    "## Create Square Matrix"
   ]
  },
  {
   "cell_type": "code",
   "execution_count": 2,
   "metadata": {},
   "outputs": [],
   "source": [
    "def create_squar_matrix(n, start=1, end=4, best_array=False):\n",
    "    \n",
    "    if not best_array:\n",
    "        array = []\n",
    "        for row in range(n):\n",
    "            inner_array = []\n",
    "            for col in range(n):\n",
    "                inner_array.append(random.randint(start, end))\n",
    "            array.append(inner_array)  \n",
    "    else:\n",
    "        temp_container = list(range(1, (n*n)+1))\n",
    "        array = []\n",
    "        for row in range(n):\n",
    "            inner_array = []\n",
    "            for col in range(n):\n",
    "                inner_array.append(temp_container.pop(0))\n",
    "            array.append(inner_array)  \n",
    "    \n",
    "    return array"
   ]
  },
  {
   "cell_type": "markdown",
   "metadata": {},
   "source": [
    "## Transpose of a 2D List"
   ]
  },
  {
   "cell_type": "code",
   "execution_count": 3,
   "metadata": {},
   "outputs": [],
   "source": [
    "def transpose(list1): \n",
    "    list1_transpose =[[row[i] for row in list1] for i in range(len(list1[0]))] \n",
    "    return list1_transpose"
   ]
  },
  {
   "cell_type": "markdown",
   "metadata": {},
   "source": [
    "## Agent Class"
   ]
  },
  {
   "cell_type": "code",
   "execution_count": 4,
   "metadata": {},
   "outputs": [],
   "source": [
    "class Agent:\n",
    "    \n",
    "    def __init__(self, n, best_array=False):\n",
    "        \n",
    "        self.best_array = best_array\n",
    "        \n",
    "        if not self.best_array:\n",
    "            # self.array = np.random.randint(low=1, high=5, size=(n, n))\n",
    "            self.array = create_squar_matrix(n)\n",
    "            self.fitness = 0 \n",
    "        else:\n",
    "            max_range = n*n + 1\n",
    "            # self.array = np.reshape(range(1, max_range), (n,n))\n",
    "            self.array = create_squar_matrix(n, best_array=self.best_array)\n",
    "            self.fitness = 0\n",
    "            \n",
    "        fitness_value_hash = {}\n",
    "#         for index, x in np.ndenumerate(self.array):\n",
    "#             fitness_value_hash[index] = 0\n",
    "        indexes = [(ix,iy) for ix, row in enumerate(self.array) for iy, i in enumerate(row)]   \n",
    "        values = [self.array[ix][iy] for ix, row in enumerate(self.array) for iy, i in enumerate(row)] \n",
    "        for index in indexes:\n",
    "            fitness_value_hash[index] = 0\n",
    "\n",
    "        self.fitness_value_hash = fitness_value_hash\n",
    "        \n",
    "    def __str__(self):\n",
    "        return (f\"Array: \\n {self.array} \\nFitness: {self.fitness}\")\n",
    "#         return (f\"Fitness: {self.fitness}\")"
   ]
  },
  {
   "cell_type": "markdown",
   "metadata": {},
   "source": [
    "## Get Adjusent Block Function"
   ]
  },
  {
   "cell_type": "code",
   "execution_count": 5,
   "metadata": {},
   "outputs": [],
   "source": [
    "def get_adjusent(array, i_row, j_column):\n",
    "    \n",
    "    neighbours = {}\n",
    "    try:\n",
    "        left_element = i_row, j_column - 1\n",
    "#         neighbours[left_element] = (array[left_element[0], left_element[1]])\n",
    "        neighbours[left_element] = (array[left_element[0]][left_element[1]])\n",
    "    except IndexError:\n",
    "        pass\n",
    "    try: \n",
    "        right_element = i_row, j_column + 1\n",
    "#         neighbours[right_element] = (array[right_element[0], right_element[1]])\n",
    "        neighbours[right_element] = (array[right_element[0]][right_element[1]])\n",
    "    except IndexError:\n",
    "        pass\n",
    "    try:\n",
    "        up_element = i_row - 1, j_column\n",
    "#         neighbours[up_element] = (array[up_element[0], up_element[1]])\n",
    "        neighbours[up_element] = (array[up_element[0]][up_element[1]])\n",
    "    except IndexError:\n",
    "        pass\n",
    "    try:\n",
    "        down_element = i_row + 1, j_column\n",
    "#         neighbours[down_element] = (array[down_element[0], down_element[1]])\n",
    "        neighbours[down_element] = (array[down_element[0]][down_element[1]])\n",
    "    except IndexError:\n",
    "        pass\n",
    "    # Removing the negative index(-1) neighbour\n",
    "    marker = []\n",
    "    for i in neighbours.keys():\n",
    "        if -1 in i:\n",
    "            marker.append(i)\n",
    "    if marker != []:\n",
    "        for i in marker:\n",
    "            del neighbours[i]    \n",
    "    return neighbours"
   ]
  },
  {
   "cell_type": "markdown",
   "metadata": {},
   "source": [
    "## Initiate Agents"
   ]
  },
  {
   "cell_type": "code",
   "execution_count": 6,
   "metadata": {},
   "outputs": [],
   "source": [
    "def init_agents(population, size):\n",
    "    \n",
    "    return [Agent(size) for _ in range(population)]"
   ]
  },
  {
   "cell_type": "markdown",
   "metadata": {},
   "source": [
    "## Fitness Function"
   ]
  },
  {
   "cell_type": "code",
   "execution_count": 7,
   "metadata": {},
   "outputs": [],
   "source": [
    "def fitness(agents):\n",
    "    \n",
    "    for agent in agents:\n",
    "        fitness_value_hash = {}\n",
    "#         for index, x in np.ndenumerate(agent.array):\n",
    "        indexes = [(ix,iy) for ix, row in enumerate(agent.array) for iy, i in enumerate(row)]   \n",
    "        values = [agent.array[ix][iy] for ix, row in enumerate(agent.array) for iy, i in enumerate(row)] \n",
    "        for i in zip(indexes, values):\n",
    "            index = i[0]\n",
    "            x = i[1]\n",
    "            fitness_value_each_element = 0\n",
    "#             adjusent_to_x = get_adjusent(agent.array, *index)\n",
    "            adjusent_to_x = get_adjusent(agent.array, index[0], index[1])\n",
    "            for colour in adjusent_to_x.values():\n",
    "                if colour == x:\n",
    "                    pass\n",
    "                else:\n",
    "                    fitness_value_each_element += 1\n",
    "\n",
    "            fitness_value_hash[index] = fitness_value_each_element\n",
    "#       print(f\"Element Index {index}, Fitness Value {fitness_value_each_element}\")\n",
    "        \n",
    "        agent.fitness_value_hash = fitness_value_hash\n",
    "        agent.fitness = sum(fitness_value_hash.values())\n",
    "        \n",
    "    return agents\n"
   ]
  },
  {
   "cell_type": "markdown",
   "metadata": {},
   "source": [
    "## Selection Function "
   ]
  },
  {
   "cell_type": "code",
   "execution_count": 8,
   "metadata": {},
   "outputs": [],
   "source": [
    "def selection(agents):\n",
    "    \n",
    "    agents = sorted(agents, key=lambda agent: agent.fitness, reverse=True)\n",
    "    \n",
    "    agents = agents[:int(.1 * len(agents))]\n",
    "    \n",
    "    return agents"
   ]
  },
  {
   "cell_type": "markdown",
   "metadata": {},
   "source": [
    "## CrossOver Function"
   ]
  },
  {
   "cell_type": "code",
   "execution_count": 9,
   "metadata": {},
   "outputs": [],
   "source": [
    "def crossover(agents):\n",
    "    \n",
    "    offsprings = []\n",
    "    \n",
    "    for _ in range((population - len(agents))//2):\n",
    "        \n",
    "        parent1 = random.choice(agents)\n",
    "        parent2 = random.choice(agents)\n",
    "        \n",
    "        child1 = Agent(size_of_matrix)\n",
    "        child2 = Agent(size_of_matrix)\n",
    "        \n",
    "        split = random.randint(0, size_of_matrix - 1) \n",
    "        \n",
    "#         child1.array = np.concatenate((parent1.array[0:split], parent2.array[split:size_of_matrix]))\n",
    "#         child2.array = np.concatenate((parent2.array[0:split], parent1.array[split:size_of_matrix]))\n",
    "        child1.array = parent1.array[0:split] + parent2.array[split:size_of_matrix]\n",
    "        child2.array = parent2.array[0:split] + parent1.array[split:size_of_matrix]\n",
    "        \n",
    "        child1.array = transpose(child1.array)\n",
    "        child2.array = transpose(child2.array)\n",
    "        \n",
    "        offsprings.append(child1)\n",
    "        offsprings.append(child2)\n",
    "        \n",
    "    agents.extend(offsprings)\n",
    "    \n",
    "    return agents"
   ]
  },
  {
   "cell_type": "markdown",
   "metadata": {},
   "source": [
    "### Get the best array "
   ]
  },
  {
   "cell_type": "code",
   "execution_count": 10,
   "metadata": {},
   "outputs": [],
   "source": [
    "def get_best_array(size_of_matrix):\n",
    "    \n",
    "    best_array = Agent(size_of_matrix, best_array=True)\n",
    "    best = [best_array]\n",
    "    fitness(best)\n",
    "    b_array = best[0]\n",
    "    max_score_to_stop = b_array.fitness\n",
    "#     print(best_array.array)\n",
    "    return max_score_to_stop\n",
    "    "
   ]
  },
  {
   "cell_type": "markdown",
   "metadata": {},
   "source": [
    "## Genetic Algorithm"
   ]
  },
  {
   "cell_type": "code",
   "execution_count": 11,
   "metadata": {},
   "outputs": [],
   "source": [
    "def ga():\n",
    "    \n",
    "    max_score_to_stop = get_best_array(size_of_matrix)\n",
    "    agents = init_agents(population, size_of_matrix)\n",
    "    time.sleep(3)\n",
    "    \n",
    "    for generation in range(generations):\n",
    "        \n",
    "#         print(f\"Since Generation: {generation}, Best Fitness We Got {agents[0].fitness}, Fitness We Are Looking for {max_score_to_stop}\")\n",
    "        \n",
    "        agents = fitness(agents)\n",
    "        agents = selection(agents)\n",
    "        agents = crossover(agents)\n",
    "        #agents = mutation(agents)\n",
    "        \n",
    "        agents = fitness(agents)\n",
    "        \n",
    "        time.sleep(.2)\n",
    "#         print(\"Sleeping..\")\n",
    "        for agent in agents:\n",
    "            # print(agent.fitness, max_score_to_stop )\n",
    "            if agent.fitness == max_score_to_stop:\n",
    "                print(\"Got the best array\")\n",
    "#                 print(agent.array)\n",
    "#                 print(f\"Fitness of the Above Array {agent.fitness}\")\n",
    "                for i in agent.array:\n",
    "                    for j in i:\n",
    "                        print(j, end=\" \")\n",
    "                    print(\"\")\n",
    "                    \n",
    "                sys.exit(0)\n"
   ]
  },
  {
   "cell_type": "markdown",
   "metadata": {},
   "source": [
    "## Global Variables (should be under main())"
   ]
  },
  {
   "cell_type": "code",
   "execution_count": 12,
   "metadata": {
    "scrolled": true
   },
   "outputs": [],
   "source": [
    "size_of_matrix = 20\n",
    "population = size_of_matrix * 150\n",
    "generations = size_of_matrix * 20"
   ]
  },
  {
   "cell_type": "markdown",
   "metadata": {},
   "source": [
    "## Starting the Algorithm "
   ]
  },
  {
   "cell_type": "code",
   "execution_count": null,
   "metadata": {},
   "outputs": [],
   "source": [
    "ga()"
   ]
  },
  {
   "cell_type": "code",
   "execution_count": null,
   "metadata": {},
   "outputs": [],
   "source": []
  }
 ],
 "metadata": {
  "kernelspec": {
   "display_name": "Python 3",
   "language": "python",
   "name": "python3"
  },
  "language_info": {
   "codemirror_mode": {
    "name": "ipython",
    "version": 3
   },
   "file_extension": ".py",
   "mimetype": "text/x-python",
   "name": "python",
   "nbconvert_exporter": "python",
   "pygments_lexer": "ipython3",
   "version": "3.7.6"
  }
 },
 "nbformat": 4,
 "nbformat_minor": 4
}
