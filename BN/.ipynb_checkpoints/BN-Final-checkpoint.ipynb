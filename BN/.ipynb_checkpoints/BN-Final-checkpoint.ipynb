{
 "cells": [
  {
   "cell_type": "code",
   "execution_count": 1,
   "metadata": {},
   "outputs": [],
   "source": [
    "import copy"
   ]
  },
  {
   "cell_type": "markdown",
   "metadata": {},
   "source": [
    "# Load the input data"
   ]
  },
  {
   "cell_type": "code",
   "execution_count": 2,
   "metadata": {},
   "outputs": [],
   "source": [
    "# Reading the data from the input \n",
    "\n",
    "### Raw Data from STDIN/File  - FOR LAPTOP\n",
    "data = [] \n",
    "with open(\"input.txt\") as f:\n",
    "    data = f.readlines()\n",
    "\n",
    "# ### Raw Data from STDIN/File - FOR Hacker Rank\n",
    "# data = []\n",
    "# for line in fileinput.input():\n",
    "#     data.append(line)\n",
    "    \n"
   ]
  },
  {
   "cell_type": "code",
   "execution_count": 3,
   "metadata": {},
   "outputs": [],
   "source": [
    "data = [ d.rstrip()  for d in data]"
   ]
  },
  {
   "cell_type": "markdown",
   "metadata": {},
   "source": [
    "# Extract the data from the user input "
   ]
  },
  {
   "cell_type": "code",
   "execution_count": 4,
   "metadata": {},
   "outputs": [],
   "source": [
    "def read_input_data(all_data):\n",
    "    \n",
    "    # No. of Nodes\n",
    "    no_nodes = int(all_data[0])\n",
    "\n",
    "    # Node Domains\n",
    "    node_domain = []\n",
    "    for i in range(1, no_nodes+1):\n",
    "        d = all_data[i].split(\",\")\n",
    "        d = [_.strip()  for _ in d]\n",
    "        node_domain.append(d)\n",
    "    \n",
    "    _node_numbers = list(range(no_nodes))\n",
    "    domains = dict.fromkeys(_node_numbers, None)\n",
    "    for i, j in zip(domains, node_domain):\n",
    "        domains[i] = j\n",
    "\n",
    "    # Node Conditional Dependency Matrix\n",
    "    node_con_dep = []\n",
    "    for i in range(no_nodes+1, 2*no_nodes+1):\n",
    "        d = all_data[i].split()\n",
    "        d = [int(_.strip()) for _ in d]\n",
    "        node_con_dep.append(d)\n",
    "        \n",
    "    # Total No. of Samples\n",
    "    no_samples = int(all_data[2*no_nodes+1])\n",
    "    \n",
    "    # All samples\n",
    "    samples = []\n",
    "    start_inx = 2*no_nodes + 2\n",
    "    for i in range(start_inx, len(all_data)):\n",
    "        d = all_data[i].split(\",\")\n",
    "        d = [_.strip()  for _ in d]\n",
    "        samples.append(d)\n",
    "    \n",
    "\n",
    "    return no_nodes, domains, node_con_dep, no_samples, samples\n",
    "   "
   ]
  },
  {
   "cell_type": "code",
   "execution_count": 5,
   "metadata": {},
   "outputs": [],
   "source": [
    "def check_dependency(node, node_con_dep):\n",
    "    \n",
    "    dependency_vector = []\n",
    "    \n",
    "    for i in node_con_dep:\n",
    "        dependency_vector.append((i[node]))\n",
    "\n",
    "    if sum(dependency_vector) != 0:\n",
    "        return True\n",
    "    else:\n",
    "        return False"
   ]
  },
  {
   "cell_type": "code",
   "execution_count": 6,
   "metadata": {},
   "outputs": [],
   "source": [
    "def get_dependency(node_numbers, node_con_dep):\n",
    "    \n",
    "    node_dependency = dict.fromkeys(node_numbers, None)\n",
    "    for node in node_numbers:\n",
    "        \n",
    "        dependency_vector = []\n",
    "        for i in node_con_dep:\n",
    "            dependency_vector.append((i[node]))\n",
    "            \n",
    "        print(f\"dependence vector for node {node} is {dependency_vector}\")\n",
    "        \n",
    "        _depends_on = []\n",
    "        for n, flag in enumerate(dependency_vector):\n",
    "            if flag != 0:\n",
    "                print(node, n)\n",
    "                _depends_on.append(n)\n",
    "        node_dependency[node] = _depends_on\n",
    "        \n",
    "        #print(node_dependency)\n",
    "    return node_dependency"
   ]
  },
  {
   "cell_type": "code",
   "execution_count": 7,
   "metadata": {},
   "outputs": [],
   "source": [
    "# generate combination of two list\n",
    "def extend_list(list1,list2):\n",
    "    temp=[];temp=copy.deepcopy(list1);temp.append(list2)\n",
    "    return temp\n",
    "def combination(list1, list2):\n",
    "    return [extend_list(item1,item2) if type(item1) is list else [item1,item2] for item1 in list1 for item2 in list2]\n",
    "\n",
    "# generate all combination of list of variables\n",
    "def list_combination(list_of_variables): \n",
    "    node_combinations=[]\n",
    "    no_of_variables=len(list_of_variables)\n",
    "    node_combinations=list_of_variables[0]\n",
    "    for i in range(no_of_variables-1):\n",
    "        node_combination = combination(node_combinations,list_of_variables[i+1])\n",
    "        node_combinations=node_combination\n",
    "    return node_combinations"
   ]
  },
  {
   "cell_type": "markdown",
   "metadata": {},
   "source": [
    "# MAIN starts from here"
   ]
  },
  {
   "cell_type": "markdown",
   "metadata": {},
   "source": [
    "## Reading the data from the input "
   ]
  },
  {
   "cell_type": "code",
   "execution_count": 8,
   "metadata": {},
   "outputs": [],
   "source": [
    "no_nodes, node_domains, node_con_dep, no_samples, samples = read_input_data(data)"
   ]
  },
  {
   "cell_type": "code",
   "execution_count": 9,
   "metadata": {},
   "outputs": [
    {
     "data": {
      "text/plain": [
       "[[0, 0, 1], [0, 0, 1], [0, 0, 0]]"
      ]
     },
     "execution_count": 9,
     "metadata": {},
     "output_type": "execute_result"
    }
   ],
   "source": [
    "node_con_dep"
   ]
  },
  {
   "cell_type": "markdown",
   "metadata": {},
   "source": [
    "## Details of Dependent Nodes"
   ]
  },
  {
   "cell_type": "code",
   "execution_count": 10,
   "metadata": {},
   "outputs": [
    {
     "name": "stdout",
     "output_type": "stream",
     "text": [
      "dependence vector for node 0 is [0, 0, 0]\n",
      "dependence vector for node 1 is [0, 0, 0]\n",
      "dependence vector for node 2 is [1, 1, 0]\n",
      "2 0\n",
      "2 1\n",
      "{0: [], 1: [], 2: [0, 1]}\n"
     ]
    }
   ],
   "source": [
    "node_numbers = list(range(no_nodes))\n",
    "node_dependency = get_dependency(node_numbers, node_con_dep)\n",
    "print(node_dependency)"
   ]
  },
  {
   "cell_type": "markdown",
   "metadata": {},
   "source": [
    "## Node Domains"
   ]
  },
  {
   "cell_type": "code",
   "execution_count": 11,
   "metadata": {},
   "outputs": [
    {
     "name": "stdout",
     "output_type": "stream",
     "text": [
      "{0: ['TRUE', 'FALSE'], 1: ['TRUE', 'FALSE'], 2: ['TRUE', 'FALSE']}\n"
     ]
    }
   ],
   "source": [
    "print(node_domains)"
   ]
  },
  {
   "cell_type": "markdown",
   "metadata": {},
   "source": [
    "## Node Dependency Matrix"
   ]
  },
  {
   "cell_type": "code",
   "execution_count": 12,
   "metadata": {},
   "outputs": [
    {
     "name": "stdout",
     "output_type": "stream",
     "text": [
      "[0, 0, 1]\n",
      "[0, 0, 1]\n",
      "[0, 0, 0]\n"
     ]
    }
   ],
   "source": [
    "for i in node_con_dep:\n",
    "    print(i)"
   ]
  },
  {
   "cell_type": "markdown",
   "metadata": {},
   "source": [
    "## Finding the probability of Independent RV/Node"
   ]
  },
  {
   "cell_type": "code",
   "execution_count": 13,
   "metadata": {},
   "outputs": [],
   "source": [
    "independent_nodes = {}\n",
    "dependent_nodes = {}\n",
    "\n",
    "for i in range(no_nodes):\n",
    "    if check_dependency(i, node_con_dep):\n",
    "        dependent_nodes[i] = {}\n",
    "    else:\n",
    "        independent_nodes[i] = {}  "
   ]
  },
  {
   "cell_type": "code",
   "execution_count": 14,
   "metadata": {
    "scrolled": true
   },
   "outputs": [
    {
     "data": {
      "text/plain": [
       "{0: {}, 1: {}}"
      ]
     },
     "execution_count": 14,
     "metadata": {},
     "output_type": "execute_result"
    }
   ],
   "source": [
    "independent_nodes"
   ]
  },
  {
   "cell_type": "code",
   "execution_count": 15,
   "metadata": {
    "scrolled": false
   },
   "outputs": [
    {
     "data": {
      "text/plain": [
       "{2: {}}"
      ]
     },
     "execution_count": 15,
     "metadata": {},
     "output_type": "execute_result"
    }
   ],
   "source": [
    "dependent_nodes"
   ]
  },
  {
   "cell_type": "code",
   "execution_count": 16,
   "metadata": {},
   "outputs": [
    {
     "data": {
      "text/plain": [
       "{2: {}}"
      ]
     },
     "execution_count": 16,
     "metadata": {},
     "output_type": "execute_result"
    }
   ],
   "source": [
    "dependent_nodes"
   ]
  },
  {
   "cell_type": "code",
   "execution_count": 17,
   "metadata": {},
   "outputs": [],
   "source": [
    "for n in independent_nodes:\n",
    "    independent_nodes[n] = dict.fromkeys(node_domains[n])\n",
    "    for d in node_domains[n]:\n",
    "        node_domain_prob = dict({d: 0})\n",
    "        _node_d = []\n",
    "\n",
    "        for sample in samples:\n",
    "            _node_d.append(sample[n])\n",
    "        node_domain_prob[d] = _node_d.count(d) / len(samples)\n",
    "        \n",
    "        independent_nodes[n][d] =  node_domain_prob[d]\n",
    "        "
   ]
  },
  {
   "cell_type": "code",
   "execution_count": 18,
   "metadata": {},
   "outputs": [
    {
     "data": {
      "text/plain": [
       "{0: {'TRUE': 0.2, 'FALSE': 0.8}, 1: {'TRUE': 0.4, 'FALSE': 0.6}}"
      ]
     },
     "execution_count": 18,
     "metadata": {},
     "output_type": "execute_result"
    }
   ],
   "source": [
    "independent_nodes"
   ]
  },
  {
   "cell_type": "markdown",
   "metadata": {},
   "source": [
    "## Finding the probability of Dependent RV/Node"
   ]
  },
  {
   "cell_type": "markdown",
   "metadata": {},
   "source": [
    "### Get individual domain probability for a particular RV/Node"
   ]
  },
  {
   "cell_type": "code",
   "execution_count": 19,
   "metadata": {},
   "outputs": [],
   "source": [
    "#node_dependency"
   ]
  },
  {
   "cell_type": "code",
   "execution_count": 20,
   "metadata": {},
   "outputs": [],
   "source": [
    "#dependent_nodes"
   ]
  },
  {
   "cell_type": "code",
   "execution_count": 21,
   "metadata": {},
   "outputs": [],
   "source": [
    "## Using itertool \n",
    "# for n in dependent_nodes.keys():\n",
    "#     _parents = node_dependency[n]\n",
    "#     _possible_domain = []\n",
    "#     _possible_domain.append(node_domains[n])\n",
    "#     for p in _parents:\n",
    "#         _possible_domain.append(node_domains[p])\n",
    "    \n",
    "#     _ = list(itertools.product(*_possible_domain))\n",
    "#     _ = [ list(i) for i in _ ]\n",
    "#     dependent_nodes[n] = _"
   ]
  },
  {
   "cell_type": "markdown",
   "metadata": {},
   "source": [
    "### Storing each sample row in separate node hash"
   ]
  },
  {
   "cell_type": "code",
   "execution_count": 22,
   "metadata": {},
   "outputs": [],
   "source": [
    "node_values = {}\n",
    "for i in node_numbers:\n",
    "    node_values[i] = []\n",
    "for s in samples:\n",
    "    for i in range(len(s)):\n",
    "        node_values[i].append(s[i])"
   ]
  },
  {
   "cell_type": "code",
   "execution_count": 23,
   "metadata": {},
   "outputs": [],
   "source": [
    "#node_values"
   ]
  },
  {
   "cell_type": "markdown",
   "metadata": {},
   "source": [
    "### Looping over all dependent node"
   ]
  },
  {
   "cell_type": "code",
   "execution_count": 24,
   "metadata": {},
   "outputs": [],
   "source": [
    "#node_dependency"
   ]
  },
  {
   "cell_type": "code",
   "execution_count": 25,
   "metadata": {},
   "outputs": [],
   "source": [
    "#independent_nodes"
   ]
  },
  {
   "cell_type": "code",
   "execution_count": 26,
   "metadata": {},
   "outputs": [],
   "source": [
    "#dependent_nodes"
   ]
  },
  {
   "cell_type": "code",
   "execution_count": 27,
   "metadata": {},
   "outputs": [],
   "source": [
    "for n in dependent_nodes.keys():\n",
    "    parent_nodes = node_dependency[n]\n",
    "    _possible_parent_domain = []\n",
    "    \n",
    "    for p in parent_nodes:\n",
    "        _possible_parent_domain.append(node_domains[p])\n",
    "    \n",
    "    parent_conditions = list_combination(_possible_parent_domain)\n",
    "#     print(parent_conditions)\n",
    "    \n",
    "    for child_domain in node_domains[n]:\n",
    "#         print(child_domain)\n",
    "\n",
    "        for condition in parent_conditions:\n",
    "            if not isinstance(condition, list):\n",
    "                condition = [condition]\n",
    "#             print(f\"condition : {condition}\")\n",
    "            idx = [] \n",
    "            for pn in range(len(parent_nodes)):\n",
    "#                 print(condition)\n",
    "                # Finding the index of each sample for \"pn\" parent node with domain as condition[pn]\n",
    "                _idx = [i for i, x in enumerate(node_values[parent_nodes[pn]]) if x == condition[pn]]\n",
    "                idx.append(_idx)\n",
    "#                 print(idx)\n",
    "\n",
    "            # Finding the intersection of all the parents\n",
    "            idx = set.intersection(*map(set,idx))      \n",
    "            child_value = [node_values[n][i] for i in idx]                \n",
    "            chile_samples = len(child_value)\n",
    "            try:\n",
    "                node_domain_prob = child_value.count(child_domain)/chile_samples\n",
    "            except ZeroDivisionError:\n",
    "                node_domain_prob = 0 \n",
    "            \n",
    "            #Svaing the probability in the \"dependent_nodes\" hash\n",
    "#             print(condition)\n",
    "            _ = condition.copy()\n",
    "            _.insert(0, child_domain)\n",
    "            dependent_nodes[n][str(_)] = node_domain_prob\n",
    "#             print(f\"Pribability: [{condition}] : {node_domain_prob}\")"
   ]
  },
  {
   "cell_type": "code",
   "execution_count": 28,
   "metadata": {
    "scrolled": true
   },
   "outputs": [],
   "source": [
    "# dependent_nodes"
   ]
  },
  {
   "cell_type": "code",
   "execution_count": 29,
   "metadata": {},
   "outputs": [],
   "source": [
    "#independent_nodes"
   ]
  },
  {
   "cell_type": "markdown",
   "metadata": {},
   "source": [
    "### Merging both the probabilities "
   ]
  },
  {
   "cell_type": "code",
   "execution_count": 30,
   "metadata": {},
   "outputs": [],
   "source": [
    "all_nodes = {}\n",
    "all_nodes.update(dependent_nodes)\n",
    "all_nodes.update(independent_nodes)"
   ]
  },
  {
   "cell_type": "code",
   "execution_count": 31,
   "metadata": {},
   "outputs": [],
   "source": [
    "#all_nodes"
   ]
  },
  {
   "cell_type": "code",
   "execution_count": 32,
   "metadata": {},
   "outputs": [],
   "source": [
    "all_nodes_sorted_list = sorted(all_nodes.items())"
   ]
  },
  {
   "cell_type": "code",
   "execution_count": 33,
   "metadata": {},
   "outputs": [],
   "source": [
    "#all_nodes_sorted_list"
   ]
  },
  {
   "cell_type": "markdown",
   "metadata": {},
   "source": [
    "### Printing the domain probability"
   ]
  },
  {
   "cell_type": "code",
   "execution_count": 34,
   "metadata": {},
   "outputs": [],
   "source": [
    "all_probs = [] \n",
    "\n",
    "for node in all_nodes_sorted_list:\n",
    "    domain_probs = []\n",
    "    for domain_prob in node[1].values():\n",
    "        domain_probs.append(str(domain_prob))\n",
    "#     print(domain_probs)\n",
    "    _p = \" \".join(domain_probs)\n",
    "    all_probs.append(_p)\n",
    "#         domain_prob += node[1][domain]\n",
    "        "
   ]
  },
  {
   "cell_type": "code",
   "execution_count": 35,
   "metadata": {},
   "outputs": [
    {
     "name": "stdout",
     "output_type": "stream",
     "text": [
      "0.2 0.8\n",
      "0.4 0.6\n",
      "0.2 0.4 0.3 0.5 0.8 0.6 0.7 0.5\n"
     ]
    }
   ],
   "source": [
    "for p in all_probs:\n",
    "    print(p)"
   ]
  },
  {
   "cell_type": "code",
   "execution_count": null,
   "metadata": {},
   "outputs": [],
   "source": []
  },
  {
   "cell_type": "code",
   "execution_count": null,
   "metadata": {},
   "outputs": [],
   "source": []
  },
  {
   "cell_type": "code",
   "execution_count": null,
   "metadata": {},
   "outputs": [],
   "source": []
  },
  {
   "cell_type": "code",
   "execution_count": null,
   "metadata": {},
   "outputs": [],
   "source": []
  }
 ],
 "metadata": {
  "kernelspec": {
   "display_name": "Python 3",
   "language": "python",
   "name": "python3"
  },
  "language_info": {
   "codemirror_mode": {
    "name": "ipython",
    "version": 3
   },
   "file_extension": ".py",
   "mimetype": "text/x-python",
   "name": "python",
   "nbconvert_exporter": "python",
   "pygments_lexer": "ipython3",
   "version": "3.7.6"
  }
 },
 "nbformat": 4,
 "nbformat_minor": 4
}
