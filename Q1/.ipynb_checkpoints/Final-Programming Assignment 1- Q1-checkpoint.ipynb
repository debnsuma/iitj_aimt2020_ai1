{
 "cells": [
  {
   "cell_type": "code",
   "execution_count": 1,
   "metadata": {},
   "outputs": [],
   "source": [
    "from pprint import pprint as pp"
   ]
  },
  {
   "cell_type": "markdown",
   "metadata": {},
   "source": [
    "### Raw Data from STDIN"
   ]
  },
  {
   "cell_type": "code",
   "execution_count": 2,
   "metadata": {},
   "outputs": [],
   "source": [
    "with open(\"input.txt\") as f:\n",
    "    data = f.readlines()\n",
    "data = [ d.rstrip().split()  for d in data]"
   ]
  },
  {
   "cell_type": "code",
   "execution_count": 3,
   "metadata": {},
   "outputs": [
    {
     "data": {
      "text/plain": [
       "[['10'],\n",
       " ['15', '12', '13', '14', '6', '7', '8', '9', '10', '0'],\n",
       " ['1', '10'],\n",
       " ['16'],\n",
       " ['1', '2', '6'],\n",
       " ['1', '3', '2'],\n",
       " ['1', '4', '15'],\n",
       " ['2', '3', '12'],\n",
       " ['2', '4', '10'],\n",
       " ['3', '7', '17'],\n",
       " ['3', '4', '19'],\n",
       " ['4', '8', '5'],\n",
       " ['5', '6', '6'],\n",
       " ['5', '8', '4'],\n",
       " ['6', '9', '15'],\n",
       " ['6', '7', '5'],\n",
       " ['7', '10', '15'],\n",
       " ['7', '8', '1'],\n",
       " ['8', '10', '15'],\n",
       " ['9', '10', '15']]"
      ]
     },
     "execution_count": 3,
     "metadata": {},
     "output_type": "execute_result"
    }
   ],
   "source": [
    "data"
   ]
  },
  {
   "cell_type": "markdown",
   "metadata": {},
   "source": [
    "### Total No of Nodes (line no. 1)"
   ]
  },
  {
   "cell_type": "code",
   "execution_count": 4,
   "metadata": {},
   "outputs": [],
   "source": [
    "total_no_node = int(data[0][0])"
   ]
  },
  {
   "cell_type": "code",
   "execution_count": 5,
   "metadata": {},
   "outputs": [
    {
     "data": {
      "text/plain": [
       "10"
      ]
     },
     "execution_count": 5,
     "metadata": {},
     "output_type": "execute_result"
    }
   ],
   "source": [
    "total_no_node"
   ]
  },
  {
   "cell_type": "markdown",
   "metadata": {},
   "source": [
    "### Heuristic Values (line no. 2)"
   ]
  },
  {
   "cell_type": "code",
   "execution_count": 6,
   "metadata": {},
   "outputs": [],
   "source": [
    "heuristic_each_node = [int(i) for i in data[1]]\n",
    "H = {}\n",
    "for i, j in enumerate(heuristic_each_node):\n",
    "    H[i+1] =  j"
   ]
  },
  {
   "cell_type": "code",
   "execution_count": 7,
   "metadata": {},
   "outputs": [
    {
     "data": {
      "text/plain": [
       "{1: 15, 2: 12, 3: 13, 4: 14, 5: 6, 6: 7, 7: 8, 8: 9, 9: 10, 10: 0}"
      ]
     },
     "execution_count": 7,
     "metadata": {},
     "output_type": "execute_result"
    }
   ],
   "source": [
    "H"
   ]
  },
  {
   "cell_type": "markdown",
   "metadata": {},
   "source": [
    "### Start and Goal Node (line no. 3)"
   ]
  },
  {
   "cell_type": "code",
   "execution_count": 8,
   "metadata": {},
   "outputs": [],
   "source": [
    "start_node = int(data[2][0])\n",
    "end_node = int(data[2][1])"
   ]
  },
  {
   "cell_type": "code",
   "execution_count": 9,
   "metadata": {},
   "outputs": [
    {
     "data": {
      "text/plain": [
       "(1, 10)"
      ]
     },
     "execution_count": 9,
     "metadata": {},
     "output_type": "execute_result"
    }
   ],
   "source": [
    "start_node, end_node"
   ]
  },
  {
   "cell_type": "markdown",
   "metadata": {},
   "source": [
    "### Start node, end node and the actual cost of the edge. (line no. 4 and above)"
   ]
  },
  {
   "cell_type": "code",
   "execution_count": 10,
   "metadata": {},
   "outputs": [],
   "source": [
    "_real_path_costs = [ i for i in data[4:]]"
   ]
  },
  {
   "cell_type": "code",
   "execution_count": 11,
   "metadata": {},
   "outputs": [
    {
     "data": {
      "text/plain": [
       "[['1', '2', '6'],\n",
       " ['1', '3', '2'],\n",
       " ['1', '4', '15'],\n",
       " ['2', '3', '12'],\n",
       " ['2', '4', '10'],\n",
       " ['3', '7', '17'],\n",
       " ['3', '4', '19'],\n",
       " ['4', '8', '5'],\n",
       " ['5', '6', '6'],\n",
       " ['5', '8', '4'],\n",
       " ['6', '9', '15'],\n",
       " ['6', '7', '5'],\n",
       " ['7', '10', '15'],\n",
       " ['7', '8', '1'],\n",
       " ['8', '10', '15'],\n",
       " ['9', '10', '15']]"
      ]
     },
     "execution_count": 11,
     "metadata": {},
     "output_type": "execute_result"
    }
   ],
   "source": [
    "_real_path_costs"
   ]
  },
  {
   "cell_type": "code",
   "execution_count": 12,
   "metadata": {},
   "outputs": [],
   "source": [
    "real_path_costs = []\n",
    "for i in _real_path_costs:\n",
    "    j = [int(k) for k in i[:2]]\n",
    "    real_path_costs.append([tuple(j), int(i[2])])\n",
    "real_path_costs.sort()  "
   ]
  },
  {
   "cell_type": "code",
   "execution_count": 13,
   "metadata": {
    "scrolled": true
   },
   "outputs": [
    {
     "data": {
      "text/plain": [
       "[[(1, 2), 6],\n",
       " [(1, 3), 2],\n",
       " [(1, 4), 15],\n",
       " [(2, 3), 12],\n",
       " [(2, 4), 10],\n",
       " [(3, 4), 19],\n",
       " [(3, 7), 17],\n",
       " [(4, 8), 5],\n",
       " [(5, 6), 6],\n",
       " [(5, 8), 4],\n",
       " [(6, 7), 5],\n",
       " [(6, 9), 15],\n",
       " [(7, 8), 1],\n",
       " [(7, 10), 15],\n",
       " [(8, 10), 15],\n",
       " [(9, 10), 15]]"
      ]
     },
     "execution_count": 13,
     "metadata": {},
     "output_type": "execute_result"
    }
   ],
   "source": [
    "real_path_costs"
   ]
  },
  {
   "cell_type": "markdown",
   "metadata": {},
   "source": [
    "### Get Tree Function"
   ]
  },
  {
   "cell_type": "code",
   "execution_count": 14,
   "metadata": {},
   "outputs": [],
   "source": [
    "def get_tree(total_no_node, real_path_costs):\n",
    "    nodes = list(range(1, total_no_node+1))\n",
    "    tree = dict.fromkeys(nodes, [])\n",
    "    for p in real_path_costs:\n",
    "        if tree[p[0][0]] == []:\n",
    "            tree[p[0][0]] = [[p[0][1], p[1]]]\n",
    "        else:\n",
    "            tree[p[0][0]].append([p[0][1], p[1]])\n",
    "    \n",
    "    return tree\n",
    "    "
   ]
  },
  {
   "cell_type": "code",
   "execution_count": 15,
   "metadata": {},
   "outputs": [],
   "source": [
    "tree = get_tree(total_no_node, real_path_costs)"
   ]
  },
  {
   "cell_type": "code",
   "execution_count": 16,
   "metadata": {
    "scrolled": true
   },
   "outputs": [
    {
     "data": {
      "text/plain": [
       "{1: [[2, 6], [3, 2], [4, 15]],\n",
       " 2: [[3, 12], [4, 10]],\n",
       " 3: [[4, 19], [7, 17]],\n",
       " 4: [[8, 5]],\n",
       " 5: [[6, 6], [8, 4]],\n",
       " 6: [[7, 5], [9, 15]],\n",
       " 7: [[8, 1], [10, 15]],\n",
       " 8: [[10, 15]],\n",
       " 9: [[10, 15]],\n",
       " 10: []}"
      ]
     },
     "execution_count": 16,
     "metadata": {},
     "output_type": "execute_result"
    }
   ],
   "source": [
    "tree"
   ]
  },
  {
   "cell_type": "code",
   "execution_count": 17,
   "metadata": {},
   "outputs": [
    {
     "data": {
      "text/plain": [
       "{1: 15, 2: 12, 3: 13, 4: 14, 5: 6, 6: 7, 7: 8, 8: 9, 9: 10, 10: 0}"
      ]
     },
     "execution_count": 17,
     "metadata": {},
     "output_type": "execute_result"
    }
   ],
   "source": [
    "H"
   ]
  },
  {
   "cell_type": "markdown",
   "metadata": {},
   "source": [
    "### Get Path Cost Function\n"
   ]
  },
  {
   "cell_type": "code",
   "execution_count": 18,
   "metadata": {},
   "outputs": [],
   "source": [
    "def get_cost(trace, tree):\n",
    "    final_cost = 0\n",
    "    for i in range(len(trace)-1):\n",
    "        k = tree[trace[i]]\n",
    "        for item in k:\n",
    "            if item[0] == trace[i+1]:\n",
    "                final_cost += item[1]\n",
    "        # print(trace[i], k)\n",
    "    \n",
    "    return final_cost"
   ]
  },
  {
   "cell_type": "markdown",
   "metadata": {},
   "source": [
    "### A* Search Algo"
   ]
  },
  {
   "cell_type": "code",
   "execution_count": 28,
   "metadata": {},
   "outputs": [],
   "source": [
    "open_queue = []\n",
    "close_queue = []\n",
    "\n",
    "# Initialization with the starting node \n",
    "last_cost = H[start_node]\n",
    "open_queue.append([[start_node], last_cost])\n"
   ]
  },
  {
   "cell_type": "code",
   "execution_count": 29,
   "metadata": {},
   "outputs": [],
   "source": [
    "present_node = open_queue[0][0][-1]\n",
    "trace = open_queue[0][0]"
   ]
  },
  {
   "cell_type": "code",
   "execution_count": 30,
   "metadata": {},
   "outputs": [],
   "source": [
    "#########"
   ]
  },
  {
   "cell_type": "code",
   "execution_count": 31,
   "metadata": {},
   "outputs": [
    {
     "name": "stdout",
     "output_type": "stream",
     "text": [
      "######################################\n",
      "Present Node 1\n",
      "Closed Node [1]\n",
      "Sorted Open Queue\n",
      "[[[1, 3], 15], [[1, 2], 18], [[1, 4], 29]]\n",
      "######################################\n",
      "Expanding Node : 3\n",
      "######################################\n",
      "Present Node 3\n",
      "Closed Node [1, 3]\n",
      "Sorted Open Queue\n",
      "[[[1, 2], 18], [[1, 3, 7], 27], [[1, 4], 29], [[1, 3, 4], 35]]\n",
      "######################################\n",
      "Expanding Node : 2\n",
      "######################################\n",
      "Present Node 2\n",
      "Closed Node [1, 3, 2]\n",
      "Sorted Open Queue\n",
      "[[[1, 3, 7], 27], [[1, 4], 29], [[1, 2, 4], 30], [[1, 2, 3], 31], [[1, 3, 4], 35]]\n",
      "######################################\n",
      "Expanding Node : 7\n",
      "######################################\n",
      "Present Node 7\n",
      "Closed Node [1, 3, 2, 7]\n",
      "Sorted Open Queue\n",
      "[[[1, 4], 29], [[1, 3, 7, 8], 29], [[1, 2, 4], 30], [[1, 2, 3], 31], [[1, 3, 7, 10], 34], [[1, 3, 4], 35]]\n",
      "######################################\n",
      "Expanding Node : 4\n",
      "######################################\n",
      "Present Node 4\n",
      "Closed Node [1, 3, 2, 7, 4]\n",
      "Sorted Open Queue\n",
      "[[[1, 3, 7, 8], 29], [[1, 4, 8], 29], [[1, 2, 4], 30], [[1, 2, 3], 31], [[1, 3, 7, 10], 34], [[1, 3, 4], 35]]\n",
      "######################################\n",
      "Expanding Node : 8\n",
      "######################################\n",
      "Present Node 8\n",
      "Closed Node [1, 3, 2, 7, 4, 8]\n",
      "Sorted Open Queue\n",
      "[[[1, 4, 8], 29], [[1, 2, 4], 30], [[1, 2, 3], 31], [[1, 3, 7, 10], 34], [[1, 3, 4], 35], [[1, 3, 7, 8, 10], 35]]\n",
      "######################################\n",
      "Expanding Node : 8\n",
      "######################################\n",
      "Present Node 8\n",
      "Closed Node [1, 3, 2, 7, 4, 8, 8]\n",
      "Sorted Open Queue\n",
      "[[[1, 2, 4], 30], [[1, 2, 3], 31], [[1, 3, 7, 10], 34], [[1, 3, 4], 35], [[1, 3, 7, 8, 10], 35], [[1, 4, 8, 10], 35]]\n",
      "######################################\n",
      "Expanding Node : 4\n",
      "######################################\n",
      "Present Node 4\n",
      "Closed Node [1, 3, 2, 7, 4, 8, 8, 4]\n",
      "Sorted Open Queue\n",
      "[[[1, 2, 4, 8], 30], [[1, 2, 3], 31], [[1, 3, 7, 10], 34], [[1, 3, 4], 35], [[1, 3, 7, 8, 10], 35], [[1, 4, 8, 10], 35]]\n",
      "######################################\n",
      "Expanding Node : 8\n",
      "######################################\n",
      "Present Node 8\n",
      "Closed Node [1, 3, 2, 7, 4, 8, 8, 4, 8]\n",
      "Sorted Open Queue\n",
      "[[[1, 2, 3], 31], [[1, 3, 7, 10], 34], [[1, 3, 4], 35], [[1, 3, 7, 8, 10], 35], [[1, 4, 8, 10], 35], [[1, 2, 4, 8, 10], 36]]\n",
      "######################################\n",
      "Expanding Node : 3\n",
      "######################################\n",
      "Present Node 3\n",
      "Closed Node [1, 3, 2, 7, 4, 8, 8, 4, 8, 3]\n",
      "Sorted Open Queue\n",
      "[[[1, 3, 7, 10], 34], [[1, 3, 4], 35], [[1, 3, 7, 8, 10], 35], [[1, 4, 8, 10], 35], [[1, 2, 4, 8, 10], 36], [[1, 2, 3, 7], 43], [[1, 2, 3, 4], 51]]\n",
      "######################################\n",
      "Expanding Node : 10\n",
      "######################################\n",
      "Expanded Nodes are: [1, 3, 2, 7, 4, 8, 8, 4, 8, 3, 10]\n"
     ]
    }
   ],
   "source": [
    "expanded_node = []\n",
    "expanded_node.append(present_node)\n",
    "\n",
    "while present_node != end_node:\n",
    "    \n",
    "    print(\"######################################\")\n",
    "    print(f\"Present Node {present_node}\")\n",
    "    for c in tree[present_node]:\n",
    "        # print(open_queue)\n",
    "        till_now = trace.copy()\n",
    "        till_now.append(c[0])\n",
    "        till_now_cost = get_cost(till_now, tree) + H[c[0]]\n",
    "        open_queue.append([till_now, till_now_cost])\n",
    "\n",
    "    del open_queue[0]\n",
    "    close_queue.append(present_node)\n",
    "    print(f\"Closed Node {close_queue}\")\n",
    "\n",
    "    open_queue.sort(key = lambda x: x[1])\n",
    "    print(\"Sorted Open Queue\")\n",
    "    print(open_queue)\n",
    "        \n",
    "    present_node = open_queue[0][0][-1]\n",
    "    trace = open_queue[0][0]\n",
    "    print(\"######################################\")\n",
    "    print(f\"Expanding Node : {present_node}\")\n",
    "    expanded_node.append(present_node)\n",
    "\n",
    "print(\"######################################\")\n",
    "optimal_path_cost = open_queue[0][1]\n",
    "print(f\"Expanded Nodes are: {expanded_node}\")"
   ]
  },
  {
   "cell_type": "markdown",
   "metadata": {},
   "source": [
    "## Final Output"
   ]
  },
  {
   "cell_type": "code",
   "execution_count": 32,
   "metadata": {},
   "outputs": [
    {
     "name": "stdout",
     "output_type": "stream",
     "text": [
      "1 3 2 7 4 8 8 4 8 3 10 \n",
      "34\n"
     ]
    }
   ],
   "source": [
    "## Final Output\n",
    "for t in expanded_node:\n",
    "    print(t, end = \" \")\n",
    "print(\"\\n\" + str(optimal_path_cost))"
   ]
  },
  {
   "cell_type": "code",
   "execution_count": null,
   "metadata": {},
   "outputs": [],
   "source": []
  },
  {
   "cell_type": "code",
   "execution_count": null,
   "metadata": {},
   "outputs": [],
   "source": []
  }
 ],
 "metadata": {
  "kernelspec": {
   "display_name": "Python 3",
   "language": "python",
   "name": "python3"
  },
  "language_info": {
   "codemirror_mode": {
    "name": "ipython",
    "version": 3
   },
   "file_extension": ".py",
   "mimetype": "text/x-python",
   "name": "python",
   "nbconvert_exporter": "python",
   "pygments_lexer": "ipython3",
   "version": "3.7.6"
  }
 },
 "nbformat": 4,
 "nbformat_minor": 4
}
