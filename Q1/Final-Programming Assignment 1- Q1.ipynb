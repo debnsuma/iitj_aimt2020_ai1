{
 "cells": [
  {
   "cell_type": "code",
   "execution_count": 1,
   "metadata": {},
   "outputs": [],
   "source": [
    "from pprint import pprint as pp"
   ]
  },
  {
   "cell_type": "markdown",
   "metadata": {},
   "source": [
    "### Raw Data from STDIN"
   ]
  },
  {
   "cell_type": "code",
   "execution_count": 2,
   "metadata": {},
   "outputs": [],
   "source": [
    "with open(\"input.txt\") as f:\n",
    "    data = f.readlines()\n",
    "data = [ d.rstrip().split()  for d in data]"
   ]
  },
  {
   "cell_type": "code",
   "execution_count": 3,
   "metadata": {},
   "outputs": [],
   "source": [
    "data"
   ]
  },
  {
   "cell_type": "markdown",
   "metadata": {},
   "source": [
    "### Total No of Nodes (line no. 1)"
   ]
  },
  {
   "cell_type": "code",
   "execution_count": 4,
   "metadata": {},
   "outputs": [],
   "source": [
    "total_no_node = int(data[0][0])"
   ]
  },
  {
   "cell_type": "code",
   "execution_count": 5,
   "metadata": {},
   "outputs": [],
   "source": [
    "total_no_node"
   ]
  },
  {
   "cell_type": "markdown",
   "metadata": {},
   "source": [
    "### Heuristic Values (line no. 2)"
   ]
  },
  {
   "cell_type": "code",
   "execution_count": 6,
   "metadata": {},
   "outputs": [],
   "source": [
    "heuristic_each_node = [int(i) for i in data[1]]\n",
    "H = {}\n",
    "for i, j in enumerate(heuristic_each_node):\n",
    "    H[i+1] =  j"
   ]
  },
  {
   "cell_type": "code",
   "execution_count": 7,
   "metadata": {},
   "outputs": [],
   "source": [
    "H"
   ]
  },
  {
   "cell_type": "markdown",
   "metadata": {},
   "source": [
    "### Start and Goal Node (line no. 3)"
   ]
  },
  {
   "cell_type": "code",
   "execution_count": 8,
   "metadata": {},
   "outputs": [],
   "source": [
    "start_node = int(data[2][0])\n",
    "end_node = int(data[2][1])"
   ]
  },
  {
   "cell_type": "code",
   "execution_count": 9,
   "metadata": {},
   "outputs": [],
   "source": [
    "start_node, end_node"
   ]
  },
  {
   "cell_type": "markdown",
   "metadata": {},
   "source": [
    "### Start node, end node and the actual cost of the edge. (line no. 4 and above)"
   ]
  },
  {
   "cell_type": "code",
   "execution_count": 10,
   "metadata": {},
   "outputs": [],
   "source": [
    "_real_path_costs = [ i for i in data[4:]]"
   ]
  },
  {
   "cell_type": "code",
   "execution_count": 11,
   "metadata": {},
   "outputs": [],
   "source": [
    "_real_path_costs"
   ]
  },
  {
   "cell_type": "code",
   "execution_count": 12,
   "metadata": {},
   "outputs": [],
   "source": [
    "real_path_costs = []\n",
    "for i in _real_path_costs:\n",
    "    j = [int(k) for k in i[:2]]\n",
    "    real_path_costs.append([tuple(j), int(i[2])])\n",
    "real_path_costs.sort()  "
   ]
  },
  {
   "cell_type": "code",
   "execution_count": 27,
   "metadata": {
    "scrolled": true
   },
   "outputs": [
    {
     "data": {
      "text/plain": [
       "[[(1, 2), 1], [(1, 3), 1], [(2, 4), 1], [(3, 4), 2], [(4, 5), 3]]"
      ]
     },
     "execution_count": 27,
     "metadata": {},
     "output_type": "execute_result"
    }
   ],
   "source": [
    "real_path_costs"
   ]
  },
  {
   "cell_type": "markdown",
   "metadata": {},
   "source": [
    "### Get Tree Function"
   ]
  },
  {
   "cell_type": "code",
   "execution_count": 24,
   "metadata": {},
   "outputs": [],
   "source": [
    "def get_tree(total_no_node, real_path_costs):\n",
    "    nodes = list(range(1, total_no_node+1))\n",
    "    tree = dict.fromkeys(nodes, [])\n",
    "    for p in real_path_costs:\n",
    "        if tree[p[0][0]] == []:\n",
    "            tree[p[0][0]] = [[p[0][1], p[1]]]\n",
    "        else:\n",
    "            tree[p[0][0]].append([p[0][1], p[1]])\n",
    "    \n",
    "    return tree\n",
    "    "
   ]
  },
  {
   "cell_type": "code",
   "execution_count": 25,
   "metadata": {},
   "outputs": [],
   "source": [
    "tree = get_tree(total_no_node, real_path_costs)"
   ]
  },
  {
   "cell_type": "code",
   "execution_count": 26,
   "metadata": {
    "scrolled": true
   },
   "outputs": [
    {
     "data": {
      "text/plain": [
       "{1: [[2, 1], [3, 1]], 2: [[4, 1]], 3: [[4, 2]], 4: [[5, 3]], 5: []}"
      ]
     },
     "execution_count": 26,
     "metadata": {},
     "output_type": "execute_result"
    }
   ],
   "source": [
    "tree"
   ]
  },
  {
   "cell_type": "code",
   "execution_count": 17,
   "metadata": {},
   "outputs": [
    {
     "data": {
      "text/plain": [
       "{1: 2, 2: 4, 3: 1, 4: 1, 5: 0}"
      ]
     },
     "execution_count": 17,
     "metadata": {},
     "output_type": "execute_result"
    }
   ],
   "source": [
    "H"
   ]
  },
  {
   "cell_type": "markdown",
   "metadata": {},
   "source": [
    "### Get Path Cost Function\n"
   ]
  },
  {
   "cell_type": "code",
   "execution_count": 18,
   "metadata": {},
   "outputs": [],
   "source": [
    "def get_cost(trace, tree):\n",
    "    final_cost = 0\n",
    "    for i in range(len(trace)-1):\n",
    "        k = tree[trace[i]]\n",
    "        for item in k:\n",
    "            if item[0] == trace[i+1]:\n",
    "                final_cost += item[1]\n",
    "        # print(trace[i], k)\n",
    "    \n",
    "    return final_cost"
   ]
  },
  {
   "cell_type": "markdown",
   "metadata": {},
   "source": [
    "### A* Search Algo"
   ]
  },
  {
   "cell_type": "code",
   "execution_count": 19,
   "metadata": {},
   "outputs": [],
   "source": [
    "open_queue = []\n",
    "close_queue = []\n",
    "\n",
    "# Initialization with the starting node \n",
    "last_cost = H[start_node]\n",
    "open_queue.append([[start_node], last_cost])\n"
   ]
  },
  {
   "cell_type": "code",
   "execution_count": 20,
   "metadata": {},
   "outputs": [],
   "source": [
    "present_node = open_queue[0][0][-1]\n",
    "trace = open_queue[0][0]"
   ]
  },
  {
   "cell_type": "code",
   "execution_count": 21,
   "metadata": {},
   "outputs": [],
   "source": [
    "#########"
   ]
  },
  {
   "cell_type": "code",
   "execution_count": 22,
   "metadata": {},
   "outputs": [
    {
     "name": "stdout",
     "output_type": "stream",
     "text": [
      "######################################\n",
      "Present Node 1\n",
      "Closed Node [1]\n",
      "Sorted Open Queue\n",
      "[[[1, 3], 2], [[1, 2], 5]]\n",
      "######################################\n",
      "Expanding Node : 3\n",
      "######################################\n",
      "Present Node 3\n",
      "Closed Node [1, 3]\n",
      "Sorted Open Queue\n",
      "[[[1, 3, 4], 4], [[1, 2], 5]]\n",
      "######################################\n",
      "Expanding Node : 4\n",
      "######################################\n",
      "Present Node 4\n",
      "Closed Node [1, 3, 4]\n",
      "Sorted Open Queue\n",
      "[[[1, 2], 5], [[1, 3, 4, 5], 6]]\n",
      "######################################\n",
      "Expanding Node : 2\n",
      "######################################\n",
      "Present Node 2\n",
      "Closed Node [1, 3, 4, 2]\n",
      "Sorted Open Queue\n",
      "[[[1, 2, 4], 3], [[1, 3, 4, 5], 6]]\n",
      "######################################\n",
      "Expanding Node : 4\n",
      "######################################\n",
      "Present Node 4\n",
      "Closed Node [1, 3, 4, 2, 4]\n",
      "Sorted Open Queue\n",
      "[[[1, 2, 4, 5], 5], [[1, 3, 4, 5], 6]]\n",
      "######################################\n",
      "Expanding Node : 5\n",
      "######################################\n",
      "Expanded Nodes are: [1, 3, 4, 2, 4, 5]\n"
     ]
    }
   ],
   "source": [
    "expanded_node = []\n",
    "expanded_node.append(present_node)\n",
    "\n",
    "while present_node != end_node:\n",
    "    \n",
    "    print(\"######################################\")\n",
    "    print(f\"Present Node {present_node}\")\n",
    "    for c in tree[present_node]:\n",
    "        # print(open_queue)\n",
    "        till_now = trace.copy()\n",
    "        till_now.append(c[0])\n",
    "        till_now_cost = get_cost(till_now, tree) + H[c[0]]\n",
    "        open_queue.append([till_now, till_now_cost])\n",
    "\n",
    "    del open_queue[0]\n",
    "    close_queue.append(present_node)\n",
    "    print(f\"Closed Node {close_queue}\")\n",
    "\n",
    "    open_queue.sort(key = lambda x: x[1])\n",
    "    print(\"Sorted Open Queue\")\n",
    "    print(open_queue)\n",
    "        \n",
    "    present_node = open_queue[0][0][-1]\n",
    "    trace = open_queue[0][0]\n",
    "    print(\"######################################\")\n",
    "    print(f\"Expanding Node : {present_node}\")\n",
    "    expanded_node.append(present_node)\n",
    "\n",
    "print(\"######################################\")\n",
    "optimal_path_cost = open_queue[0][1]\n",
    "print(f\"Expanded Nodes are: {expanded_node}\")"
   ]
  },
  {
   "cell_type": "markdown",
   "metadata": {},
   "source": [
    "## Final Output"
   ]
  },
  {
   "cell_type": "code",
   "execution_count": 23,
   "metadata": {},
   "outputs": [
    {
     "name": "stdout",
     "output_type": "stream",
     "text": [
      "1 3 4 2 4 5 \n",
      "5\n"
     ]
    }
   ],
   "source": [
    "## Final Output\n",
    "for t in expanded_node:\n",
    "    print(t, end = \" \")\n",
    "print(\"\\n\" + str(optimal_path_cost))"
   ]
  },
  {
   "cell_type": "code",
   "execution_count": 28,
   "metadata": {},
   "outputs": [
    {
     "data": {
      "text/plain": [
       "[[[1, 2, 4, 5], 5], [[1, 3, 4, 5], 6]]"
      ]
     },
     "execution_count": 28,
     "metadata": {},
     "output_type": "execute_result"
    }
   ],
   "source": [
    "open_queue"
   ]
  },
  {
   "cell_type": "code",
   "execution_count": 29,
   "metadata": {},
   "outputs": [
    {
     "data": {
      "text/plain": [
       "[1, 3, 4, 2, 4]"
      ]
     },
     "execution_count": 29,
     "metadata": {},
     "output_type": "execute_result"
    }
   ],
   "source": [
    "close_queue"
   ]
  },
  {
   "cell_type": "code",
   "execution_count": 30,
   "metadata": {},
   "outputs": [
    {
     "data": {
      "text/plain": [
       "[[[1, 2, 4, 5], 5], [[1, 3, 4, 5], 6]]"
      ]
     },
     "execution_count": 30,
     "metadata": {},
     "output_type": "execute_result"
    }
   ],
   "source": [
    "open_queue"
   ]
  },
  {
   "cell_type": "code",
   "execution_count": 31,
   "metadata": {},
   "outputs": [
    {
     "data": {
      "text/plain": [
       "5"
      ]
     },
     "execution_count": 31,
     "metadata": {},
     "output_type": "execute_result"
    }
   ],
   "source": [
    "end_node"
   ]
  },
  {
   "cell_type": "code",
   "execution_count": null,
   "metadata": {},
   "outputs": [],
   "source": []
  }
 ],
 "metadata": {
  "kernelspec": {
   "display_name": "Python 3",
   "language": "python",
   "name": "python3"
  },
  "language_info": {
   "codemirror_mode": {
    "name": "ipython",
    "version": 3
   },
   "file_extension": ".py",
   "mimetype": "text/x-python",
   "name": "python",
   "nbconvert_exporter": "python",
   "pygments_lexer": "ipython3",
   "version": "3.7.6"
  }
 },
 "nbformat": 4,
 "nbformat_minor": 4
}
